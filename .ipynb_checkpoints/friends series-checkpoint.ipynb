{
 "cells": [
  {
   "cell_type": "code",
   "execution_count": 2,
   "id": "0110c184",
   "metadata": {},
   "outputs": [],
   "source": [
    "import numpy as np\n",
    "import pandas as pd"
   ]
  },
  {
   "cell_type": "code",
   "execution_count": 3,
   "id": "eac98afc",
   "metadata": {},
   "outputs": [],
   "source": [
    "!pip install gensim --upgrade --quiet"
   ]
  },
  {
   "cell_type": "code",
   "execution_count": 4,
   "id": "fdce6bea",
   "metadata": {},
   "outputs": [],
   "source": [
    "import gensim\n",
    "import os"
   ]
  },
  {
   "cell_type": "code",
   "execution_count": 5,
   "id": "5a266b27",
   "metadata": {},
   "outputs": [],
   "source": [
    "from nltk import sent_tokenize\n",
    "from gensim.utils import simple_preprocess"
   ]
  },
  {
   "cell_type": "code",
   "execution_count": 6,
   "id": "72c11da5",
   "metadata": {},
   "outputs": [
    {
     "data": {
      "text/html": [
       "<div>\n",
       "<style scoped>\n",
       "    .dataframe tbody tr th:only-of-type {\n",
       "        vertical-align: middle;\n",
       "    }\n",
       "\n",
       "    .dataframe tbody tr th {\n",
       "        vertical-align: top;\n",
       "    }\n",
       "\n",
       "    .dataframe thead th {\n",
       "        text-align: right;\n",
       "    }\n",
       "</style>\n",
       "<table border=\"1\" class=\"dataframe\">\n",
       "  <thead>\n",
       "    <tr style=\"text-align: right;\">\n",
       "      <th></th>\n",
       "      <th>text</th>\n",
       "      <th>speaker</th>\n",
       "      <th>season</th>\n",
       "      <th>episode</th>\n",
       "      <th>scene</th>\n",
       "      <th>utterance</th>\n",
       "    </tr>\n",
       "  </thead>\n",
       "  <tbody>\n",
       "    <tr>\n",
       "      <th>0</th>\n",
       "      <td>There's nothing to tell! He's just some guy I ...</td>\n",
       "      <td>Monica Geller</td>\n",
       "      <td>1</td>\n",
       "      <td>1</td>\n",
       "      <td>1</td>\n",
       "      <td>1</td>\n",
       "    </tr>\n",
       "    <tr>\n",
       "      <th>1</th>\n",
       "      <td>C'mon, you're going out with the guy! There's ...</td>\n",
       "      <td>Joey Tribbiani</td>\n",
       "      <td>1</td>\n",
       "      <td>1</td>\n",
       "      <td>1</td>\n",
       "      <td>2</td>\n",
       "    </tr>\n",
       "    <tr>\n",
       "      <th>2</th>\n",
       "      <td>All right Joey, be nice. So does he have a hum...</td>\n",
       "      <td>Chandler Bing</td>\n",
       "      <td>1</td>\n",
       "      <td>1</td>\n",
       "      <td>1</td>\n",
       "      <td>3</td>\n",
       "    </tr>\n",
       "    <tr>\n",
       "      <th>3</th>\n",
       "      <td>Wait, does he eat chalk?</td>\n",
       "      <td>Phoebe Buffay</td>\n",
       "      <td>1</td>\n",
       "      <td>1</td>\n",
       "      <td>1</td>\n",
       "      <td>4</td>\n",
       "    </tr>\n",
       "    <tr>\n",
       "      <th>4</th>\n",
       "      <td>(They all stare, bemused.)</td>\n",
       "      <td>Scene Directions</td>\n",
       "      <td>1</td>\n",
       "      <td>1</td>\n",
       "      <td>1</td>\n",
       "      <td>5</td>\n",
       "    </tr>\n",
       "  </tbody>\n",
       "</table>\n",
       "</div>"
      ],
      "text/plain": [
       "                                                text           speaker  \\\n",
       "0  There's nothing to tell! He's just some guy I ...     Monica Geller   \n",
       "1  C'mon, you're going out with the guy! There's ...    Joey Tribbiani   \n",
       "2  All right Joey, be nice. So does he have a hum...     Chandler Bing   \n",
       "3                           Wait, does he eat chalk?     Phoebe Buffay   \n",
       "4                         (They all stare, bemused.)  Scene Directions   \n",
       "\n",
       "   season  episode  scene  utterance  \n",
       "0       1        1      1          1  \n",
       "1       1        1      1          2  \n",
       "2       1        1      1          3  \n",
       "3       1        1      1          4  \n",
       "4       1        1      1          5  "
      ]
     },
     "execution_count": 6,
     "metadata": {},
     "output_type": "execute_result"
    }
   ],
   "source": [
    "df = pd.read_csv('friends.csv')\n",
    "df.head()"
   ]
  },
  {
   "cell_type": "code",
   "execution_count": null,
   "id": "723fbd32",
   "metadata": {},
   "outputs": [],
   "source": [
    "story = \"\"\n",
    "for text in df['text']:\n",
    "    story += text"
   ]
  },
  {
   "cell_type": "code",
   "execution_count": null,
   "id": "2086d646",
   "metadata": {},
   "outputs": [],
   "source": [
    "# print(story)"
   ]
  },
  {
   "cell_type": "code",
   "execution_count": null,
   "id": "a61083a2",
   "metadata": {},
   "outputs": [],
   "source": [
    "story = story.lower()"
   ]
  },
  {
   "cell_type": "code",
   "execution_count": null,
   "id": "8563fba8",
   "metadata": {},
   "outputs": [],
   "source": [
    "from gensim.parsing.preprocessing import remove_stopwords"
   ]
  },
  {
   "cell_type": "code",
   "execution_count": null,
   "id": "62b85053",
   "metadata": {},
   "outputs": [],
   "source": [
    "story_new = remove_stopwords(story_new)"
   ]
  },
  {
   "cell_type": "code",
   "execution_count": null,
   "id": "787e4110",
   "metadata": {},
   "outputs": [],
   "source": [
    "raw_sent = sent_tokenize(story_new)"
   ]
  },
  {
   "cell_type": "code",
   "execution_count": null,
   "id": "90dec1a2",
   "metadata": {},
   "outputs": [],
   "source": [
    "script = []\n",
    "for sent in raw_sent:\n",
    "    script.append(simple_preprocess(sent))"
   ]
  },
  {
   "cell_type": "code",
   "execution_count": null,
   "id": "fe06bcb7",
   "metadata": {},
   "outputs": [],
   "source": [
    "script"
   ]
  },
  {
   "cell_type": "code",
   "execution_count": 25,
   "id": "b08560e5",
   "metadata": {},
   "outputs": [],
   "source": [
    "model = gensim.models.Word2Vec(\n",
    "    window=10,\n",
    "    min_count=2\n",
    ")"
   ]
  },
  {
   "cell_type": "code",
   "execution_count": 26,
   "id": "fc9f1069",
   "metadata": {},
   "outputs": [],
   "source": [
    "model.build_vocab(script)"
   ]
  },
  {
   "cell_type": "code",
   "execution_count": 27,
   "id": "15d78b42",
   "metadata": {},
   "outputs": [
    {
     "data": {
      "text/plain": [
       "(1581749, 2031885)"
      ]
     },
     "execution_count": 27,
     "metadata": {},
     "output_type": "execute_result"
    }
   ],
   "source": [
    "model.train(script, total_examples=model.corpus_count, epochs=model.epochs)"
   ]
  },
  {
   "cell_type": "code",
   "execution_count": 28,
   "id": "8727628a",
   "metadata": {},
   "outputs": [
    {
     "data": {
      "text/plain": [
       "[('apartment', 0.944670557975769),\n",
       " ('monica', 0.9373244047164917),\n",
       " ('joey', 0.9368399381637573),\n",
       " ('rachel', 0.9127925634384155),\n",
       " ('phoebe', 0.905184805393219),\n",
       " ('chandler', 0.8856902718544006),\n",
       " ('restaurant', 0.8775367140769958),\n",
       " ('entering', 0.8723292350769043),\n",
       " ('unpacking', 0.872197687625885),\n",
       " ('erm', 0.8620744347572327)]"
      ]
     },
     "execution_count": 28,
     "metadata": {},
     "output_type": "execute_result"
    }
   ],
   "source": [
    "model.wv.most_similar('ross')"
   ]
  },
  {
   "cell_type": "code",
   "execution_count": 29,
   "id": "73971eef",
   "metadata": {},
   "outputs": [
    {
     "data": {
      "text/plain": [
       "'doctor'"
      ]
     },
     "execution_count": 29,
     "metadata": {},
     "output_type": "execute_result"
    }
   ],
   "source": [
    "model.wv.doesnt_match(['ross', 'chandler', 'phoebe', 'monica', 'richard', 'doctor'])"
   ]
  },
  {
   "cell_type": "code",
   "execution_count": 30,
   "id": "d9391ad8",
   "metadata": {},
   "outputs": [
    {
     "data": {
      "text/plain": [
       "array([ 0.29972994,  0.8685657 ,  0.6608144 , -0.10689665,  0.3485726 ,\n",
       "       -0.6574364 ,  0.4314674 ,  0.6607059 , -0.12486434, -1.1769786 ,\n",
       "        0.34024137, -1.8553641 ,  0.3449671 ,  0.73241585, -0.3840631 ,\n",
       "       -0.15170445, -0.40632144, -0.35805714, -0.35519317, -1.3789968 ,\n",
       "        0.37321845,  0.6742089 , -0.7494903 , -0.4344221 , -0.964159  ,\n",
       "        0.34675157, -0.36017448, -1.1803502 , -0.15405616,  0.11306617,\n",
       "        0.407837  , -0.34579617,  0.14378852, -0.7443825 , -0.56459165,\n",
       "        1.7537744 ,  0.02297608, -0.1531611 , -0.29005957, -0.8580465 ,\n",
       "        0.46104288, -0.06798995, -0.6327906 ,  0.18185543,  0.49267608,\n",
       "       -0.54620856,  0.2021591 , -0.9055006 ,  0.90962243, -0.07042851,\n",
       "        0.24160416, -0.92229575, -0.07283869,  0.40069008,  0.44870803,\n",
       "        0.65636116,  0.3385729 , -0.0704248 , -0.35666782,  0.22365166,\n",
       "       -0.11289695, -1.1329074 ,  0.93881917, -0.19383654,  0.1963818 ,\n",
       "        0.833775  ,  0.06037977, -0.11282916, -0.84962565,  0.84409314,\n",
       "       -0.09957023,  0.6688551 ,  1.0409538 , -0.52921104,  0.7052149 ,\n",
       "        0.30993468,  0.43071726, -0.35582438, -0.5635137 , -0.38577658,\n",
       "       -0.7638417 ,  0.11628243, -0.7377157 , -0.15261015, -0.50684696,\n",
       "        0.11090277,  0.20511644,  0.06384801,  0.9698221 ,  0.14194372,\n",
       "        0.7054393 ,  0.8473726 ,  0.42003992,  0.62845623,  0.5635738 ,\n",
       "        0.47509515, -0.4038398 ,  0.10686297,  0.9624112 , -0.19177772],\n",
       "      dtype=float32)"
      ]
     },
     "execution_count": 30,
     "metadata": {},
     "output_type": "execute_result"
    }
   ],
   "source": [
    "model.wv['rachel']"
   ]
  },
  {
   "cell_type": "code",
   "execution_count": 31,
   "id": "56ffda0b",
   "metadata": {},
   "outputs": [
    {
     "data": {
      "text/plain": [
       "0.92363757"
      ]
     },
     "execution_count": 31,
     "metadata": {},
     "output_type": "execute_result"
    }
   ],
   "source": [
    "model.wv.similarity('monica', 'rachel')"
   ]
  },
  {
   "cell_type": "code",
   "execution_count": 32,
   "id": "70cfffb0",
   "metadata": {},
   "outputs": [
    {
     "data": {
      "text/plain": [
       "0.9468145"
      ]
     },
     "execution_count": 32,
     "metadata": {},
     "output_type": "execute_result"
    }
   ],
   "source": [
    "model.wv.similarity('monica', 'phoebe')"
   ]
  },
  {
   "cell_type": "code",
   "execution_count": 33,
   "id": "87fef75e",
   "metadata": {},
   "outputs": [
    {
     "data": {
      "text/plain": [
       "array([[-0.06593344, -0.08478417, -0.01185198, ..., -0.20371345,\n",
       "        -0.04452634,  0.00391725],\n",
       "       [-0.07041888, -0.05169329, -0.181522  , ..., -0.12552837,\n",
       "        -0.04253672, -0.12539987],\n",
       "       [-0.16118224,  0.01172732, -0.14291093, ...,  0.04391651,\n",
       "         0.01558632, -0.11022297],\n",
       "       ...,\n",
       "       [-0.05822259, -0.04910683, -0.03983255, ..., -0.14435123,\n",
       "        -0.10047606, -0.04129671],\n",
       "       [ 0.03100007,  0.05518884, -0.04319467, ..., -0.0575949 ,\n",
       "         0.06390847, -0.1300289 ],\n",
       "       [-0.00602549,  0.06090352,  0.06551667, ..., -0.16456756,\n",
       "         0.0686104 , -0.03962091]], dtype=float32)"
      ]
     },
     "execution_count": 33,
     "metadata": {},
     "output_type": "execute_result"
    }
   ],
   "source": [
    "model.wv.get_normed_vectors()"
   ]
  },
  {
   "cell_type": "code",
   "execution_count": 34,
   "id": "64ac8429",
   "metadata": {},
   "outputs": [
    {
     "data": {
      "text/plain": [
       "['you',\n",
       " 'it',\n",
       " 'oh',\n",
       " 'know',\n",
       " 'no',\n",
       " 'yeah',\n",
       " 'that',\n",
       " 'okay',\n",
       " 're',\n",
       " 'what',\n",
       " 'don',\n",
       " 'hey',\n",
       " 'well',\n",
       " 'right',\n",
       " 'ross',\n",
       " 'joey',\n",
       " 'chandler',\n",
       " 'monica',\n",
       " 'like',\n",
       " 'rachel',\n",
       " 'gonna',\n",
       " 'scene',\n",
       " 'uh',\n",
       " 'me',\n",
       " 'we',\n",
       " 'think',\n",
       " 'look',\n",
       " 'phoebe',\n",
       " 'll',\n",
       " 'mean',\n",
       " 'there',\n",
       " 'so',\n",
       " 'can',\n",
       " 'got',\n",
       " 'good',\n",
       " 'here',\n",
       " 'want',\n",
       " 'he',\n",
       " 'come',\n",
       " 'god',\n",
       " 've',\n",
       " 'she',\n",
       " 'this',\n",
       " 'guys',\n",
       " 'and',\n",
       " 'going',\n",
       " 'sorry',\n",
       " 'hi',\n",
       " 'time',\n",
       " 'ok',\n",
       " 'great',\n",
       " 'let',\n",
       " 'little',\n",
       " 'tell',\n",
       " 'they',\n",
       " 'didn',\n",
       " 'yes',\n",
       " 'now',\n",
       " 'on',\n",
       " 'do',\n",
       " 'all',\n",
       " 'guy',\n",
       " 'wait',\n",
       " 'love',\n",
       " 'thing',\n",
       " 'up',\n",
       " 'go',\n",
       " 'her',\n",
       " 'him',\n",
       " 'maybe',\n",
       " 'out',\n",
       " 'umm',\n",
       " 'is',\n",
       " 'way',\n",
       " 'said',\n",
       " 'huh',\n",
       " 'but',\n",
       " 'why',\n",
       " 'apartment',\n",
       " 'sure',\n",
       " 'really',\n",
       " 'wanna',\n",
       " 'thank',\n",
       " 'room',\n",
       " 'wow',\n",
       " 'man',\n",
       " 'the',\n",
       " 'people',\n",
       " 'need',\n",
       " 'big',\n",
       " 'how',\n",
       " 'believe',\n",
       " 'thought',\n",
       " 'just',\n",
       " 'not',\n",
       " 'baby',\n",
       " 'talk',\n",
       " 'too',\n",
       " 'ah',\n",
       " 'fine',\n",
       " 'actually',\n",
       " 'work',\n",
       " 'again',\n",
       " 'one',\n",
       " 'um',\n",
       " 'are',\n",
       " 'in',\n",
       " 'night',\n",
       " 'new',\n",
       " 'listen',\n",
       " 'door',\n",
       " 'nice',\n",
       " 'thanks',\n",
       " 'enters',\n",
       " 'who',\n",
       " 'stuff',\n",
       " 'ya',\n",
       " 'feel',\n",
       " 'see',\n",
       " 'central',\n",
       " 'doesn',\n",
       " 'cut',\n",
       " 'day',\n",
       " 'talking',\n",
       " 'getting',\n",
       " 'perk',\n",
       " 'gotta',\n",
       " 'please',\n",
       " 'ooh',\n",
       " 'alright',\n",
       " 'stop',\n",
       " 'did',\n",
       " 'cause',\n",
       " 'guess',\n",
       " 'honey',\n",
       " 'having',\n",
       " 'ohh',\n",
       " 'told',\n",
       " 'back',\n",
       " 'better',\n",
       " 'bye',\n",
       " 'place',\n",
       " 'woman',\n",
       " 'lot',\n",
       " 'hello',\n",
       " 'whoa',\n",
       " 'rach',\n",
       " 'bad',\n",
       " 'married',\n",
       " 'things',\n",
       " 'say',\n",
       " 'friend',\n",
       " 'help',\n",
       " 'them',\n",
       " 'looking',\n",
       " 'pretty',\n",
       " 'wanted',\n",
       " 'girl',\n",
       " 'us',\n",
       " 'fun',\n",
       " 'kinda',\n",
       " 'remember',\n",
       " 'away',\n",
       " 'phone',\n",
       " 'something',\n",
       " 'pheebs',\n",
       " 'happy',\n",
       " 'long',\n",
       " 'isn',\n",
       " 'start',\n",
       " 'play',\n",
       " 'date',\n",
       " 'sitting',\n",
       " 'then',\n",
       " 'hear',\n",
       " 'won',\n",
       " 'trying',\n",
       " 'tonight',\n",
       " 'looks',\n",
       " 'ready',\n",
       " 'table',\n",
       " 'coming',\n",
       " 'best',\n",
       " 'to',\n",
       " 'left',\n",
       " 'went',\n",
       " 'minute',\n",
       " 'happened',\n",
       " 'about',\n",
       " 'ask',\n",
       " 'wedding',\n",
       " 'party',\n",
       " 'thinking',\n",
       " 'job',\n",
       " 'home',\n",
       " 'head',\n",
       " 'wrong',\n",
       " 'kind',\n",
       " 'down',\n",
       " 'funny',\n",
       " 'dad',\n",
       " 'together',\n",
       " 'mom',\n",
       " 'life',\n",
       " 'couch',\n",
       " 'friends',\n",
       " 'sex',\n",
       " 'old',\n",
       " 'today',\n",
       " 'try',\n",
       " 'leave',\n",
       " 'years',\n",
       " 'hard',\n",
       " 'care',\n",
       " 'gets',\n",
       " 'my',\n",
       " 'money',\n",
       " 'goes',\n",
       " 'mon',\n",
       " 'totally',\n",
       " 'doing',\n",
       " 'if',\n",
       " 'game',\n",
       " 'was',\n",
       " 'weird',\n",
       " 'dinner',\n",
       " 'coffee',\n",
       " 'starts',\n",
       " 'off',\n",
       " 'wasn',\n",
       " 'wouldn',\n",
       " 'comes',\n",
       " 'office',\n",
       " 'kiss',\n",
       " 'year',\n",
       " 'later',\n",
       " 'mr',\n",
       " 'course',\n",
       " 'stupid',\n",
       " 'probably',\n",
       " 'idea',\n",
       " 'second',\n",
       " 'crazy',\n",
       " 'everybody',\n",
       " 'cool',\n",
       " 'saying',\n",
       " 'because',\n",
       " 'face',\n",
       " 'stay',\n",
       " 'where',\n",
       " 'meet',\n",
       " 'end',\n",
       " 'anything',\n",
       " 'emily',\n",
       " 'happen',\n",
       " 'tomorrow',\n",
       " 'ben',\n",
       " 'much',\n",
       " 'wants',\n",
       " 'hand',\n",
       " 'pick',\n",
       " 'watch',\n",
       " 'supposed',\n",
       " 'excuse',\n",
       " 'emma',\n",
       " 'mike',\n",
       " 'called',\n",
       " 'check',\n",
       " 'living',\n",
       " 'would',\n",
       " 'telling',\n",
       " 'walks',\n",
       " 'came',\n",
       " 'making',\n",
       " 'deal',\n",
       " 'problem',\n",
       " 'saw',\n",
       " 'bathroom',\n",
       " 'house',\n",
       " 'haven',\n",
       " 'live',\n",
       " 'playing',\n",
       " 'break',\n",
       " 'bedroom',\n",
       " 'nothing',\n",
       " 'over',\n",
       " 'anyway',\n",
       " 'hell',\n",
       " 'couldn',\n",
       " 'morning',\n",
       " 'eat',\n",
       " 'yet',\n",
       " 'couple',\n",
       " 'or',\n",
       " 'be',\n",
       " 'watching',\n",
       " 'somebody',\n",
       " 'use',\n",
       " 'makes',\n",
       " 'with',\n",
       " 'real',\n",
       " 'geller',\n",
       " 'open',\n",
       " 'miss',\n",
       " 'anymore',\n",
       " 'am',\n",
       " 'beautiful',\n",
       " 'matter',\n",
       " 'ha',\n",
       " 'took',\n",
       " 'dr',\n",
       " 'hot',\n",
       " 'seen',\n",
       " 'of',\n",
       " 'two',\n",
       " 'bed',\n",
       " 'kids',\n",
       " 'women',\n",
       " 'cute',\n",
       " 'person',\n",
       " 'wearing',\n",
       " 'forget',\n",
       " 'sister',\n",
       " 'food',\n",
       " 'hate',\n",
       " 'parents',\n",
       " 'hold',\n",
       " 'for',\n",
       " 'walk',\n",
       " 'heard',\n",
       " 'doctor',\n",
       " 'says',\n",
       " 'sweet',\n",
       " 'understand',\n",
       " 'name',\n",
       " 'knew',\n",
       " 'kitchen',\n",
       " 'taking',\n",
       " 'birthday',\n",
       " 'gave',\n",
       " 'boy',\n",
       " 'before',\n",
       " 'sleep',\n",
       " 'sit',\n",
       " 'movie',\n",
       " 'father',\n",
       " 'turns',\n",
       " 'turn',\n",
       " 'high',\n",
       " 'richard',\n",
       " 'uhh',\n",
       " 'hair',\n",
       " 'everything',\n",
       " 'ring',\n",
       " 'waiting',\n",
       " 'ow',\n",
       " 'hands',\n",
       " 'first',\n",
       " 'different',\n",
       " 'uhm',\n",
       " 'late',\n",
       " 'amazing',\n",
       " 'moving',\n",
       " 'question',\n",
       " 'bring',\n",
       " 'number',\n",
       " 'hmm',\n",
       " 'mind',\n",
       " 'outside',\n",
       " 'picture',\n",
       " 'aren',\n",
       " 'kidding',\n",
       " 'tv',\n",
       " 'run',\n",
       " 'means',\n",
       " 'wife',\n",
       " 'naked',\n",
       " 'have',\n",
       " 'days',\n",
       " 'half',\n",
       " 'true',\n",
       " 'janice',\n",
       " 'working',\n",
       " 'ahh',\n",
       " 'gone',\n",
       " 'cat',\n",
       " 'bit',\n",
       " 'car',\n",
       " 'else',\n",
       " 'minutes',\n",
       " 'dog',\n",
       " 'rest',\n",
       " 'pants',\n",
       " 'sounds',\n",
       " 'fact',\n",
       " 'world',\n",
       " 'ago',\n",
       " 'book',\n",
       " 'when',\n",
       " 'dude',\n",
       " 'la',\n",
       " 'other',\n",
       " 'entering',\n",
       " 'restaurant',\n",
       " 'bing',\n",
       " 'enter',\n",
       " 'worry',\n",
       " 'school',\n",
       " 'story',\n",
       " 'set',\n",
       " 'will',\n",
       " 'hang',\n",
       " 'street',\n",
       " 'your',\n",
       " 'read',\n",
       " 'finally',\n",
       " 'carol',\n",
       " 'girls',\n",
       " 'mine',\n",
       " 'hope',\n",
       " 'chair',\n",
       " 'hours',\n",
       " 'joe',\n",
       " 'babies',\n",
       " 'close',\n",
       " 'knows',\n",
       " 'mother',\n",
       " 'chance',\n",
       " 'em',\n",
       " 'throw',\n",
       " 'started',\n",
       " 'eating',\n",
       " 'wish',\n",
       " 'important',\n",
       " 'does',\n",
       " 'times',\n",
       " 'seeing',\n",
       " 'lost',\n",
       " 'met',\n",
       " 'wh',\n",
       " 'mad',\n",
       " 'window',\n",
       " 'anybody',\n",
       " 'point',\n",
       " 'takes',\n",
       " 'wear',\n",
       " 'line',\n",
       " 'ass',\n",
       " 'easy',\n",
       " 'eyes',\n",
       " 'gang',\n",
       " 'get',\n",
       " 'giving',\n",
       " 'change',\n",
       " 'perfect',\n",
       " 'opens',\n",
       " 'seriously',\n",
       " 'reading',\n",
       " 'kid',\n",
       " 'around',\n",
       " 'boyfriend',\n",
       " 'broke',\n",
       " 'pregnant',\n",
       " 'reason',\n",
       " 'sound',\n",
       " 'absolutely',\n",
       " 'green',\n",
       " 'asked',\n",
       " 'ball',\n",
       " 'knock',\n",
       " 'exactly',\n",
       " 'christmas',\n",
       " 'glad',\n",
       " 'huge',\n",
       " 'relationship',\n",
       " 'more',\n",
       " 'could',\n",
       " 'buy',\n",
       " 'hit',\n",
       " 'sweetie',\n",
       " 'mrs',\n",
       " 'standing',\n",
       " 'dance',\n",
       " 'ugh',\n",
       " 'bet',\n",
       " 'luck',\n",
       " 'hallway',\n",
       " 'box',\n",
       " 'thanksgiving',\n",
       " 'someone',\n",
       " 'ho',\n",
       " 'week',\n",
       " 'family',\n",
       " 'win',\n",
       " 'dress',\n",
       " 'audition',\n",
       " 'walking',\n",
       " 'lives',\n",
       " 'shouldn',\n",
       " 'joke',\n",
       " 'drink',\n",
       " 'bag',\n",
       " 'marry',\n",
       " 'pay',\n",
       " 'dollars',\n",
       " 'moment',\n",
       " 'thinks',\n",
       " 'myself',\n",
       " 'hour',\n",
       " 'lady',\n",
       " 'gunther',\n",
       " 'done',\n",
       " 'inside',\n",
       " 'marcel',\n",
       " 'class',\n",
       " 'london',\n",
       " 'song',\n",
       " 'serious',\n",
       " 'hurt',\n",
       " 'lunch',\n",
       " 'everyone',\n",
       " 'free',\n",
       " 'water',\n",
       " 'girlfriend',\n",
       " 'dead',\n",
       " 'kill',\n",
       " 'hall',\n",
       " 'welcome',\n",
       " 'sees',\n",
       " 'word',\n",
       " 'news',\n",
       " 'soon',\n",
       " 'leaving',\n",
       " 'promise',\n",
       " 'holding',\n",
       " 'clothes',\n",
       " 'city',\n",
       " 'earlier',\n",
       " 'answer',\n",
       " 'though',\n",
       " 'talked',\n",
       " 'card',\n",
       " 'alone',\n",
       " 'definitely',\n",
       " 'meant',\n",
       " 'boss',\n",
       " 'sick',\n",
       " 'weren',\n",
       " 'terrible',\n",
       " 'hug',\n",
       " 'men',\n",
       " 'feeling',\n",
       " 'die',\n",
       " 'figure',\n",
       " 'building',\n",
       " 'susan',\n",
       " 'runs',\n",
       " 'duck',\n",
       " 'julie',\n",
       " 'call',\n",
       " 'smell',\n",
       " 'part',\n",
       " 'tape',\n",
       " 'enough',\n",
       " 'floor',\n",
       " 'marriage',\n",
       " 'lose',\n",
       " 'fight',\n",
       " 'brother',\n",
       " 'relax',\n",
       " 'paper',\n",
       " 'doin',\n",
       " 'frank',\n",
       " 'monkey',\n",
       " 'hospital',\n",
       " 'shot',\n",
       " 'leaves',\n",
       " 'son',\n",
       " 'tickets',\n",
       " 'eh',\n",
       " 'store',\n",
       " 'brought',\n",
       " 'tribbiani',\n",
       " 'forgot',\n",
       " 'surprise',\n",
       " 'asleep',\n",
       " 'shut',\n",
       " 'shower',\n",
       " 'pizza',\n",
       " 'past',\n",
       " 'ever',\n",
       " 'rings',\n",
       " 'yourself',\n",
       " 'message',\n",
       " 'actor',\n",
       " 'ice',\n",
       " 'machine',\n",
       " 'yep',\n",
       " 'able',\n",
       " 'lapse',\n",
       " 'stand',\n",
       " 'seat',\n",
       " 'should',\n",
       " 'present',\n",
       " 'carrying',\n",
       " 'eye',\n",
       " 'fat',\n",
       " 'running',\n",
       " 'special',\n",
       " 'hat',\n",
       " 'cab',\n",
       " 'stops',\n",
       " 'plan',\n",
       " 'weeks',\n",
       " 'three',\n",
       " 'drunk',\n",
       " 'excited',\n",
       " 'mark',\n",
       " 'gay',\n",
       " 'fast',\n",
       " 'seven',\n",
       " 'fault',\n",
       " 'kissing',\n",
       " 'liked',\n",
       " 'chicken',\n",
       " 'upset',\n",
       " 'sir',\n",
       " 'obviously',\n",
       " 'counter',\n",
       " 'york',\n",
       " 'ohhh',\n",
       " 'college',\n",
       " 'butt',\n",
       " 'touch',\n",
       " 'plane',\n",
       " 'pass',\n",
       " 'figured',\n",
       " 'wine',\n",
       " 'roommate',\n",
       " 'dating',\n",
       " 'heads',\n",
       " 'either',\n",
       " 'suddenly',\n",
       " 'answers',\n",
       " 'husband',\n",
       " 'charlie',\n",
       " 'laugh',\n",
       " 'worse',\n",
       " 'laughing',\n",
       " 'gift',\n",
       " 'bob',\n",
       " 'continued',\n",
       " 'puts',\n",
       " 'coat',\n",
       " 'middle',\n",
       " 'tried',\n",
       " 'heart',\n",
       " 'afraid',\n",
       " 'jack',\n",
       " 'asking',\n",
       " 'likes',\n",
       " 'calling',\n",
       " 'tries',\n",
       " 'buddy',\n",
       " 'cup',\n",
       " 'as',\n",
       " 'paul',\n",
       " 'show',\n",
       " 'at',\n",
       " 'hotel',\n",
       " 'gives',\n",
       " 'damn',\n",
       " 'which',\n",
       " 'months',\n",
       " 'bought',\n",
       " 'apparently',\n",
       " 'bucks',\n",
       " 'missed',\n",
       " 'massage',\n",
       " 'lie',\n",
       " 'pete',\n",
       " 'five',\n",
       " 'sad',\n",
       " 'quit',\n",
       " 'finish',\n",
       " 'daddy',\n",
       " 'yay',\n",
       " 'porn',\n",
       " 'looked',\n",
       " 'were',\n",
       " 'straight',\n",
       " 'bar',\n",
       " 'sleeping',\n",
       " 'smart',\n",
       " 'while',\n",
       " 'david',\n",
       " 'pause',\n",
       " 'grandmother',\n",
       " 'spend',\n",
       " 'candy',\n",
       " 'shirt',\n",
       " 'small',\n",
       " 'barry',\n",
       " 'interesting',\n",
       " 'lucky',\n",
       " 'horrible',\n",
       " 'picked',\n",
       " 'weekend',\n",
       " 'feelings',\n",
       " 'ralph',\n",
       " 'kathy',\n",
       " 'shoes',\n",
       " 'worked',\n",
       " 'moved',\n",
       " 'camera',\n",
       " 'yours',\n",
       " 'wondering',\n",
       " 'entire',\n",
       " 'some',\n",
       " 'fair',\n",
       " 'from',\n",
       " 'child',\n",
       " 'order',\n",
       " 'returning',\n",
       " 'putting',\n",
       " 'sexy',\n",
       " 'died',\n",
       " 'music',\n",
       " 'felt',\n",
       " 'needs',\n",
       " 'piece',\n",
       " 'list',\n",
       " 'loved',\n",
       " 'kissed',\n",
       " 'sits',\n",
       " 'tag',\n",
       " 'quickly',\n",
       " 'meeting',\n",
       " 'words',\n",
       " 'crying',\n",
       " 'cake',\n",
       " 'yesterday',\n",
       " 'dear',\n",
       " 'cold',\n",
       " 'sandwich',\n",
       " 'wha',\n",
       " 'mouth',\n",
       " 'feels',\n",
       " 'drake',\n",
       " 'sign',\n",
       " 'body',\n",
       " 'these',\n",
       " 'plus',\n",
       " 'far',\n",
       " 'throws',\n",
       " 'staring',\n",
       " 'fired',\n",
       " 'slept',\n",
       " 'grab',\n",
       " 'ex',\n",
       " 'chick',\n",
       " 'happens',\n",
       " 'bunch',\n",
       " 'scared',\n",
       " 'take',\n",
       " 'stuck',\n",
       " 'once',\n",
       " 'freak',\n",
       " 'dressed',\n",
       " 'completely',\n",
       " 'goodbye',\n",
       " 'keys',\n",
       " 'wonderful',\n",
       " 'boat',\n",
       " 'young',\n",
       " 'lying',\n",
       " 'smoke',\n",
       " 'breakfast',\n",
       " 'extra',\n",
       " 'interview',\n",
       " 'nope',\n",
       " 'business',\n",
       " 'park',\n",
       " 'airport',\n",
       " 'bitch',\n",
       " 'catch',\n",
       " 'write',\n",
       " 'fall',\n",
       " 'milk',\n",
       " 'forever',\n",
       " 'lauren',\n",
       " 'by',\n",
       " 'save',\n",
       " 'seconds',\n",
       " 'turkey',\n",
       " 'closes',\n",
       " 'aww',\n",
       " 'realize',\n",
       " 'clock',\n",
       " 'cookies',\n",
       " 'still',\n",
       " 'very',\n",
       " 'sent',\n",
       " 'stick',\n",
       " 'underwear',\n",
       " 'push',\n",
       " 'elizabeth',\n",
       " 'joshua',\n",
       " 'santa',\n",
       " 'congratulations',\n",
       " 'boxes',\n",
       " 'incredible',\n",
       " 'red',\n",
       " 'museum',\n",
       " 'dream',\n",
       " 'sense',\n",
       " 'hanging',\n",
       " 'worst',\n",
       " 'works',\n",
       " 'finished',\n",
       " 'dancing',\n",
       " 'idiot',\n",
       " 'decide',\n",
       " 'clean',\n",
       " 'spent',\n",
       " 'star',\n",
       " 'clear',\n",
       " 'chef',\n",
       " 'aw',\n",
       " 'month',\n",
       " 'crap',\n",
       " 'mona',\n",
       " 'favorite',\n",
       " 'learn',\n",
       " 'ursula',\n",
       " 'writing',\n",
       " 'ride',\n",
       " 'light',\n",
       " 'tough',\n",
       " 'ladies',\n",
       " 'mistake',\n",
       " 'pain',\n",
       " 'children',\n",
       " 'video',\n",
       " 'next',\n",
       " 'fake',\n",
       " 'decided',\n",
       " 'secret',\n",
       " 'laughs',\n",
       " 'lights',\n",
       " 'plans',\n",
       " 'presents',\n",
       " 'those',\n",
       " 'aunt',\n",
       " 'step',\n",
       " 'questions',\n",
       " 'control',\n",
       " 'single',\n",
       " 'beer',\n",
       " 'singing',\n",
       " 'trip',\n",
       " 'case',\n",
       " 'turned',\n",
       " 'woah',\n",
       " 'calm',\n",
       " 'drinking',\n",
       " 'kept',\n",
       " 'feet',\n",
       " 'sing',\n",
       " 'quick',\n",
       " 'enjoy',\n",
       " 'club',\n",
       " 'ahead',\n",
       " 'swear',\n",
       " 'goin',\n",
       " 'gotten',\n",
       " 'wrote',\n",
       " 'acting',\n",
       " 'key',\n",
       " 'ones',\n",
       " 'showing',\n",
       " 'flight',\n",
       " 'conversation',\n",
       " 'send',\n",
       " 'unbelievable',\n",
       " 'roll',\n",
       " 'blah',\n",
       " 'picks',\n",
       " 'knocks',\n",
       " 'kick',\n",
       " 'appreciate',\n",
       " 'town',\n",
       " 'strong',\n",
       " 'owe',\n",
       " 'nervous',\n",
       " 'divorce',\n",
       " 'white',\n",
       " 'whatever',\n",
       " 'plate',\n",
       " 'early',\n",
       " 'future',\n",
       " 'pull',\n",
       " 'paolo',\n",
       " 'hasn',\n",
       " 'trouble',\n",
       " 'damnit',\n",
       " 'cheese',\n",
       " 'air',\n",
       " 'cry',\n",
       " 'divorced',\n",
       " 'oooh',\n",
       " 'loves',\n",
       " 'daughter',\n",
       " 'listening',\n",
       " 'instead',\n",
       " 'rules',\n",
       " 'bigger',\n",
       " 'band',\n",
       " 'worried',\n",
       " 'buffay',\n",
       " 'ran',\n",
       " 'tired',\n",
       " 'pee',\n",
       " 'leg',\n",
       " 'team',\n",
       " 'grade',\n",
       " 'shopping',\n",
       " 'professor',\n",
       " 'imagine',\n",
       " 'nooo',\n",
       " 'janine',\n",
       " 'sort',\n",
       " 'blue',\n",
       " 'been',\n",
       " 'romantic',\n",
       " 'notice',\n",
       " 'anyone',\n",
       " 'explain',\n",
       " 'played',\n",
       " 'sweater',\n",
       " 'opening',\n",
       " 'happening',\n",
       " 'known',\n",
       " 'had',\n",
       " 'fell',\n",
       " 'invited',\n",
       " 'speak',\n",
       " 'hide',\n",
       " 'bottle',\n",
       " 'propose',\n",
       " 'jokes',\n",
       " 'broken',\n",
       " 'tulsa',\n",
       " 'excellent',\n",
       " 'lesbian',\n",
       " 'purse',\n",
       " 'assistant',\n",
       " 'speech',\n",
       " 'wake',\n",
       " 'mess',\n",
       " 'shoot',\n",
       " 'vegas',\n",
       " 'kisses',\n",
       " 'ugly',\n",
       " 'jealous',\n",
       " 'needed',\n",
       " 'desk',\n",
       " 'comfortable',\n",
       " 'six',\n",
       " 'stopped',\n",
       " 'black',\n",
       " 'guest',\n",
       " 'stairs',\n",
       " 'smile',\n",
       " 'nose',\n",
       " 'fridge',\n",
       " 'drive',\n",
       " 'starting',\n",
       " 'invite',\n",
       " 'pictures',\n",
       " 'slowly',\n",
       " 'calls',\n",
       " 'worth',\n",
       " 'awkward',\n",
       " 'jill',\n",
       " 'changed',\n",
       " 'jacket',\n",
       " 'balcony',\n",
       " 'hoping',\n",
       " 'count',\n",
       " 'legs',\n",
       " 'cover',\n",
       " 'tiny',\n",
       " 'bra',\n",
       " 'grabs',\n",
       " 'noo',\n",
       " 'along',\n",
       " 'eight',\n",
       " 'crush',\n",
       " 'make',\n",
       " ...]"
      ]
     },
     "execution_count": 34,
     "metadata": {},
     "output_type": "execute_result"
    }
   ],
   "source": [
    "y = model.wv.index_to_key\n",
    "y"
   ]
  },
  {
   "cell_type": "code",
   "execution_count": 35,
   "id": "c8681e42",
   "metadata": {},
   "outputs": [],
   "source": [
    "from sklearn.decomposition import PCA"
   ]
  },
  {
   "cell_type": "code",
   "execution_count": 36,
   "id": "c3e7996c",
   "metadata": {},
   "outputs": [],
   "source": [
    "pca = PCA(n_components=3)"
   ]
  },
  {
   "cell_type": "code",
   "execution_count": 37,
   "id": "3db384b9",
   "metadata": {},
   "outputs": [],
   "source": [
    "X = pca.fit_transform(model.wv.get_normed_vectors())"
   ]
  },
  {
   "cell_type": "code",
   "execution_count": 38,
   "id": "e3bce967",
   "metadata": {},
   "outputs": [
    {
     "data": {
      "text/plain": [
       "(9562, 3)"
      ]
     },
     "execution_count": 38,
     "metadata": {},
     "output_type": "execute_result"
    }
   ],
   "source": [
    "X.shape"
   ]
  },
  {
   "cell_type": "code",
   "execution_count": 40,
   "id": "43507bc4",
   "metadata": {},
   "outputs": [
    {
     "data": {
      "application/vnd.plotly.v1+json": {
       "config": {
        "plotlyServerURL": "https://plot.ly"
       },
       "data": [
        {
         "hovertemplate": "color=drink<br>0=%{x}<br>1=%{y}<br>2=%{z}<extra></extra>",
         "legendgroup": "drink",
         "marker": {
          "color": "#636efa",
          "symbol": "circle"
         },
         "mode": "markers",
         "name": "drink",
         "scene": "scene",
         "showlegend": true,
         "type": "scatter3d",
         "x": [
          0.23707497119903564
         ],
         "y": [
          0.0197747889906168
         ],
         "z": [
          -0.17209376394748688
         ]
        },
        {
         "hovertemplate": "color=bag<br>0=%{x}<br>1=%{y}<br>2=%{z}<extra></extra>",
         "legendgroup": "bag",
         "marker": {
          "color": "#EF553B",
          "symbol": "circle"
         },
         "mode": "markers",
         "name": "bag",
         "scene": "scene",
         "showlegend": true,
         "type": "scatter3d",
         "x": [
          -0.17122282087802887
         ],
         "y": [
          0.07721856981515884
         ],
         "z": [
          -0.1630735993385315
         ]
        },
        {
         "hovertemplate": "color=marry<br>0=%{x}<br>1=%{y}<br>2=%{z}<extra></extra>",
         "legendgroup": "marry",
         "marker": {
          "color": "#00cc96",
          "symbol": "circle"
         },
         "mode": "markers",
         "name": "marry",
         "scene": "scene",
         "showlegend": true,
         "type": "scatter3d",
         "x": [
          0.5338698625564575
         ],
         "y": [
          0.012470518238842487
         ],
         "z": [
          -0.03507568687200546
         ]
        },
        {
         "hovertemplate": "color=pay<br>0=%{x}<br>1=%{y}<br>2=%{z}<extra></extra>",
         "legendgroup": "pay",
         "marker": {
          "color": "#ab63fa",
          "symbol": "circle"
         },
         "mode": "markers",
         "name": "pay",
         "scene": "scene",
         "showlegend": true,
         "type": "scatter3d",
         "x": [
          0.4615802764892578
         ],
         "y": [
          0.010430878028273582
         ],
         "z": [
          -0.15650507807731628
         ]
        },
        {
         "hovertemplate": "color=dollars<br>0=%{x}<br>1=%{y}<br>2=%{z}<extra></extra>",
         "legendgroup": "dollars",
         "marker": {
          "color": "#FFA15A",
          "symbol": "circle"
         },
         "mode": "markers",
         "name": "dollars",
         "scene": "scene",
         "showlegend": true,
         "type": "scatter3d",
         "x": [
          0.24432048201560974
         ],
         "y": [
          -0.07422097772359848
         ],
         "z": [
          -0.10658255219459534
         ]
        },
        {
         "hovertemplate": "color=moment<br>0=%{x}<br>1=%{y}<br>2=%{z}<extra></extra>",
         "legendgroup": "moment",
         "marker": {
          "color": "#19d3f3",
          "symbol": "circle"
         },
         "mode": "markers",
         "name": "moment",
         "scene": "scene",
         "showlegend": true,
         "type": "scatter3d",
         "x": [
          0.11264723539352417
         ],
         "y": [
          -0.03914567455649376
         ],
         "z": [
          -0.11822812259197235
         ]
        },
        {
         "hovertemplate": "color=thinks<br>0=%{x}<br>1=%{y}<br>2=%{z}<extra></extra>",
         "legendgroup": "thinks",
         "marker": {
          "color": "#FF6692",
          "symbol": "circle"
         },
         "mode": "markers",
         "name": "thinks",
         "scene": "scene",
         "showlegend": true,
         "type": "scatter3d",
         "x": [
          0.17576447129249573
         ],
         "y": [
          -0.18818417191505432
         ],
         "z": [
          0.036663319915533066
         ]
        },
        {
         "hovertemplate": "color=myself<br>0=%{x}<br>1=%{y}<br>2=%{z}<extra></extra>",
         "legendgroup": "myself",
         "marker": {
          "color": "#B6E880",
          "symbol": "circle"
         },
         "mode": "markers",
         "name": "myself",
         "scene": "scene",
         "showlegend": true,
         "type": "scatter3d",
         "x": [
          0.5117183327674866
         ],
         "y": [
          -0.08754163235425949
         ],
         "z": [
          -0.06909796595573425
         ]
        },
        {
         "hovertemplate": "color=hour<br>0=%{x}<br>1=%{y}<br>2=%{z}<extra></extra>",
         "legendgroup": "hour",
         "marker": {
          "color": "#FF97FF",
          "symbol": "circle"
         },
         "mode": "markers",
         "name": "hour",
         "scene": "scene",
         "showlegend": true,
         "type": "scatter3d",
         "x": [
          0.14042571187019348
         ],
         "y": [
          -0.11178914457559586
         ],
         "z": [
          -0.01126770954579115
         ]
        },
        {
         "hovertemplate": "color=lady<br>0=%{x}<br>1=%{y}<br>2=%{z}<extra></extra>",
         "legendgroup": "lady",
         "marker": {
          "color": "#FECB52",
          "symbol": "circle"
         },
         "mode": "markers",
         "name": "lady",
         "scene": "scene",
         "showlegend": true,
         "type": "scatter3d",
         "x": [
          0.162638321518898
         ],
         "y": [
          -0.1381242722272873
         ],
         "z": [
          -0.07428977638483047
         ]
        },
        {
         "hovertemplate": "color=gunther<br>0=%{x}<br>1=%{y}<br>2=%{z}<extra></extra>",
         "legendgroup": "gunther",
         "marker": {
          "color": "#636efa",
          "symbol": "circle"
         },
         "mode": "markers",
         "name": "gunther",
         "scene": "scene",
         "showlegend": true,
         "type": "scatter3d",
         "x": [
          -0.2508971095085144
         ],
         "y": [
          0.1613903045654297
         ],
         "z": [
          -0.11404525488615036
         ]
        },
        {
         "hovertemplate": "color=done<br>0=%{x}<br>1=%{y}<br>2=%{z}<extra></extra>",
         "legendgroup": "done",
         "marker": {
          "color": "#EF553B",
          "symbol": "circle"
         },
         "mode": "markers",
         "name": "done",
         "scene": "scene",
         "showlegend": true,
         "type": "scatter3d",
         "x": [
          0.32289227843284607
         ],
         "y": [
          0.012902435846626759
         ],
         "z": [
          -0.1329217255115509
         ]
        },
        {
         "hovertemplate": "color=inside<br>0=%{x}<br>1=%{y}<br>2=%{z}<extra></extra>",
         "legendgroup": "inside",
         "marker": {
          "color": "#00cc96",
          "symbol": "circle"
         },
         "mode": "markers",
         "name": "inside",
         "scene": "scene",
         "showlegend": true,
         "type": "scatter3d",
         "x": [
          -0.32932165265083313
         ],
         "y": [
          0.02612774632871151
         ],
         "z": [
          0.017507923766970634
         ]
        },
        {
         "hovertemplate": "color=marcel<br>0=%{x}<br>1=%{y}<br>2=%{z}<extra></extra>",
         "legendgroup": "marcel",
         "marker": {
          "color": "#ab63fa",
          "symbol": "circle"
         },
         "mode": "markers",
         "name": "marcel",
         "scene": "scene",
         "showlegend": true,
         "type": "scatter3d",
         "x": [
          -0.32043707370758057
         ],
         "y": [
          0.04350510239601135
         ],
         "z": [
          -0.01727963238954544
         ]
        },
        {
         "hovertemplate": "color=class<br>0=%{x}<br>1=%{y}<br>2=%{z}<extra></extra>",
         "legendgroup": "class",
         "marker": {
          "color": "#FFA15A",
          "symbol": "circle"
         },
         "mode": "markers",
         "name": "class",
         "scene": "scene",
         "showlegend": true,
         "type": "scatter3d",
         "x": [
          -0.16156043112277985
         ],
         "y": [
          -0.059109173715114594
         ],
         "z": [
          -0.02037113346159458
         ]
        },
        {
         "hovertemplate": "color=london<br>0=%{x}<br>1=%{y}<br>2=%{z}<extra></extra>",
         "legendgroup": "london",
         "marker": {
          "color": "#19d3f3",
          "symbol": "circle"
         },
         "mode": "markers",
         "name": "london",
         "scene": "scene",
         "showlegend": true,
         "type": "scatter3d",
         "x": [
          0.13646551966667175
         ],
         "y": [
          -0.07464785128831863
         ],
         "z": [
          -0.07655851542949677
         ]
        },
        {
         "hovertemplate": "color=song<br>0=%{x}<br>1=%{y}<br>2=%{z}<extra></extra>",
         "legendgroup": "song",
         "marker": {
          "color": "#FF6692",
          "symbol": "circle"
         },
         "mode": "markers",
         "name": "song",
         "scene": "scene",
         "showlegend": true,
         "type": "scatter3d",
         "x": [
          -0.10554176568984985
         ],
         "y": [
          -0.04580391198396683
         ],
         "z": [
          -0.07215381413698196
         ]
        },
        {
         "hovertemplate": "color=serious<br>0=%{x}<br>1=%{y}<br>2=%{z}<extra></extra>",
         "legendgroup": "serious",
         "marker": {
          "color": "#B6E880",
          "symbol": "circle"
         },
         "mode": "markers",
         "name": "serious",
         "scene": "scene",
         "showlegend": true,
         "type": "scatter3d",
         "x": [
          0.4754509925842285
         ],
         "y": [
          -0.09409922361373901
         ],
         "z": [
          0.02540717087686062
         ]
        },
        {
         "hovertemplate": "color=hurt<br>0=%{x}<br>1=%{y}<br>2=%{z}<extra></extra>",
         "legendgroup": "hurt",
         "marker": {
          "color": "#FF97FF",
          "symbol": "circle"
         },
         "mode": "markers",
         "name": "hurt",
         "scene": "scene",
         "showlegend": true,
         "type": "scatter3d",
         "x": [
          0.4792647957801819
         ],
         "y": [
          -0.04961223527789116
         ],
         "z": [
          -0.10544542223215103
         ]
        },
        {
         "hovertemplate": "color=lunch<br>0=%{x}<br>1=%{y}<br>2=%{z}<extra></extra>",
         "legendgroup": "lunch",
         "marker": {
          "color": "#FECB52",
          "symbol": "circle"
         },
         "mode": "markers",
         "name": "lunch",
         "scene": "scene",
         "showlegend": true,
         "type": "scatter3d",
         "x": [
          0.15095007419586182
         ],
         "y": [
          -0.021008579060435295
         ],
         "z": [
          -0.1111060380935669
         ]
        },
        {
         "hovertemplate": "color=everyone<br>0=%{x}<br>1=%{y}<br>2=%{z}<extra></extra>",
         "legendgroup": "everyone",
         "marker": {
          "color": "#636efa",
          "symbol": "circle"
         },
         "mode": "markers",
         "name": "everyone",
         "scene": "scene",
         "showlegend": true,
         "type": "scatter3d",
         "x": [
          -0.0288838017731905
         ],
         "y": [
          0.0060751778073608875
         ],
         "z": [
          -0.13326707482337952
         ]
        },
        {
         "hovertemplate": "color=free<br>0=%{x}<br>1=%{y}<br>2=%{z}<extra></extra>",
         "legendgroup": "free",
         "marker": {
          "color": "#EF553B",
          "symbol": "circle"
         },
         "mode": "markers",
         "name": "free",
         "scene": "scene",
         "showlegend": true,
         "type": "scatter3d",
         "x": [
          0.10637200623750687
         ],
         "y": [
          0.005770288873463869
         ],
         "z": [
          -0.1671697497367859
         ]
        },
        {
         "hovertemplate": "color=water<br>0=%{x}<br>1=%{y}<br>2=%{z}<extra></extra>",
         "legendgroup": "water",
         "marker": {
          "color": "#00cc96",
          "symbol": "circle"
         },
         "mode": "markers",
         "name": "water",
         "scene": "scene",
         "showlegend": true,
         "type": "scatter3d",
         "x": [
          -0.11725030839443207
         ],
         "y": [
          -0.04404979571700096
         ],
         "z": [
          -0.09128190577030182
         ]
        },
        {
         "hovertemplate": "color=girlfriend<br>0=%{x}<br>1=%{y}<br>2=%{z}<extra></extra>",
         "legendgroup": "girlfriend",
         "marker": {
          "color": "#ab63fa",
          "symbol": "circle"
         },
         "mode": "markers",
         "name": "girlfriend",
         "scene": "scene",
         "showlegend": true,
         "type": "scatter3d",
         "x": [
          0.4867854416370392
         ],
         "y": [
          -0.08205718547105789
         ],
         "z": [
          0.022662071511149406
         ]
        },
        {
         "hovertemplate": "color=dead<br>0=%{x}<br>1=%{y}<br>2=%{z}<extra></extra>",
         "legendgroup": "dead",
         "marker": {
          "color": "#FFA15A",
          "symbol": "circle"
         },
         "mode": "markers",
         "name": "dead",
         "scene": "scene",
         "showlegend": true,
         "type": "scatter3d",
         "x": [
          0.34036263823509216
         ],
         "y": [
          -0.11847618967294693
         ],
         "z": [
          -0.06624745577573776
         ]
        },
        {
         "hovertemplate": "color=kill<br>0=%{x}<br>1=%{y}<br>2=%{z}<extra></extra>",
         "legendgroup": "kill",
         "marker": {
          "color": "#19d3f3",
          "symbol": "circle"
         },
         "mode": "markers",
         "name": "kill",
         "scene": "scene",
         "showlegend": true,
         "type": "scatter3d",
         "x": [
          0.4974899888038635
         ],
         "y": [
          0.015378045849502087
         ],
         "z": [
          -0.08295482397079468
         ]
        },
        {
         "hovertemplate": "color=hall<br>0=%{x}<br>1=%{y}<br>2=%{z}<extra></extra>",
         "legendgroup": "hall",
         "marker": {
          "color": "#FF6692",
          "symbol": "circle"
         },
         "mode": "markers",
         "name": "hall",
         "scene": "scene",
         "showlegend": true,
         "type": "scatter3d",
         "x": [
          -0.26165661215782166
         ],
         "y": [
          0.007169855758547783
         ],
         "z": [
          -0.015548757277429104
         ]
        },
        {
         "hovertemplate": "color=welcome<br>0=%{x}<br>1=%{y}<br>2=%{z}<extra></extra>",
         "legendgroup": "welcome",
         "marker": {
          "color": "#B6E880",
          "symbol": "circle"
         },
         "mode": "markers",
         "name": "welcome",
         "scene": "scene",
         "showlegend": true,
         "type": "scatter3d",
         "x": [
          0.24711626768112183
         ],
         "y": [
          0.2828441262245178
         ],
         "z": [
          -0.15507683157920837
         ]
        },
        {
         "hovertemplate": "color=sees<br>0=%{x}<br>1=%{y}<br>2=%{z}<extra></extra>",
         "legendgroup": "sees",
         "marker": {
          "color": "#FF97FF",
          "symbol": "circle"
         },
         "mode": "markers",
         "name": "sees",
         "scene": "scene",
         "showlegend": true,
         "type": "scatter3d",
         "x": [
          -0.47220057249069214
         ],
         "y": [
          0.1322488784790039
         ],
         "z": [
          0.08168508112430573
         ]
        },
        {
         "hovertemplate": "color=word<br>0=%{x}<br>1=%{y}<br>2=%{z}<extra></extra>",
         "legendgroup": "word",
         "marker": {
          "color": "#FECB52",
          "symbol": "circle"
         },
         "mode": "markers",
         "name": "word",
         "scene": "scene",
         "showlegend": true,
         "type": "scatter3d",
         "x": [
          0.18984799087047577
         ],
         "y": [
          -0.04856360703706741
         ],
         "z": [
          -0.15255051851272583
         ]
        },
        {
         "hovertemplate": "color=news<br>0=%{x}<br>1=%{y}<br>2=%{z}<extra></extra>",
         "legendgroup": "news",
         "marker": {
          "color": "#636efa",
          "symbol": "circle"
         },
         "mode": "markers",
         "name": "news",
         "scene": "scene",
         "showlegend": true,
         "type": "scatter3d",
         "x": [
          0.4187368154525757
         ],
         "y": [
          0.06936271488666534
         ],
         "z": [
          -0.07117048650979996
         ]
        },
        {
         "hovertemplate": "color=soon<br>0=%{x}<br>1=%{y}<br>2=%{z}<extra></extra>",
         "legendgroup": "soon",
         "marker": {
          "color": "#EF553B",
          "symbol": "circle"
         },
         "mode": "markers",
         "name": "soon",
         "scene": "scene",
         "showlegend": true,
         "type": "scatter3d",
         "x": [
          0.38759350776672363
         ],
         "y": [
          -0.08218155056238174
         ],
         "z": [
          -0.0036332665476948023
         ]
        },
        {
         "hovertemplate": "color=leaving<br>0=%{x}<br>1=%{y}<br>2=%{z}<extra></extra>",
         "legendgroup": "leaving",
         "marker": {
          "color": "#00cc96",
          "symbol": "circle"
         },
         "mode": "markers",
         "name": "leaving",
         "scene": "scene",
         "showlegend": true,
         "type": "scatter3d",
         "x": [
          0.06929071247577667
         ],
         "y": [
          -0.012378259561955929
         ],
         "z": [
          -0.09195741266012192
         ]
        },
        {
         "hovertemplate": "color=promise<br>0=%{x}<br>1=%{y}<br>2=%{z}<extra></extra>",
         "legendgroup": "promise",
         "marker": {
          "color": "#ab63fa",
          "symbol": "circle"
         },
         "mode": "markers",
         "name": "promise",
         "scene": "scene",
         "showlegend": true,
         "type": "scatter3d",
         "x": [
          0.6332489848136902
         ],
         "y": [
          0.18623417615890503
         ],
         "z": [
          -0.08251556009054184
         ]
        },
        {
         "hovertemplate": "color=holding<br>0=%{x}<br>1=%{y}<br>2=%{z}<extra></extra>",
         "legendgroup": "holding",
         "marker": {
          "color": "#FFA15A",
          "symbol": "circle"
         },
         "mode": "markers",
         "name": "holding",
         "scene": "scene",
         "showlegend": true,
         "type": "scatter3d",
         "x": [
          -0.36445000767707825
         ],
         "y": [
          0.09321624785661697
         ],
         "z": [
          -0.0034282009582966566
         ]
        },
        {
         "hovertemplate": "color=clothes<br>0=%{x}<br>1=%{y}<br>2=%{z}<extra></extra>",
         "legendgroup": "clothes",
         "marker": {
          "color": "#19d3f3",
          "symbol": "circle"
         },
         "mode": "markers",
         "name": "clothes",
         "scene": "scene",
         "showlegend": true,
         "type": "scatter3d",
         "x": [
          -0.09502613544464111
         ],
         "y": [
          -0.03661549836397171
         ],
         "z": [
          -0.05148801580071449
         ]
        },
        {
         "hovertemplate": "color=city<br>0=%{x}<br>1=%{y}<br>2=%{z}<extra></extra>",
         "legendgroup": "city",
         "marker": {
          "color": "#FF6692",
          "symbol": "circle"
         },
         "mode": "markers",
         "name": "city",
         "scene": "scene",
         "showlegend": true,
         "type": "scatter3d",
         "x": [
          -0.12383567541837692
         ],
         "y": [
          -0.1952143907546997
         ],
         "z": [
          0.12950702011585236
         ]
        },
        {
         "hovertemplate": "color=earlier<br>0=%{x}<br>1=%{y}<br>2=%{z}<extra></extra>",
         "legendgroup": "earlier",
         "marker": {
          "color": "#B6E880",
          "symbol": "circle"
         },
         "mode": "markers",
         "name": "earlier",
         "scene": "scene",
         "showlegend": true,
         "type": "scatter3d",
         "x": [
          -0.5101041793823242
         ],
         "y": [
          0.12351569533348083
         ],
         "z": [
          0.1413152813911438
         ]
        },
        {
         "hovertemplate": "color=answer<br>0=%{x}<br>1=%{y}<br>2=%{z}<extra></extra>",
         "legendgroup": "answer",
         "marker": {
          "color": "#FF97FF",
          "symbol": "circle"
         },
         "mode": "markers",
         "name": "answer",
         "scene": "scene",
         "showlegend": true,
         "type": "scatter3d",
         "x": [
          0.3455968499183655
         ],
         "y": [
          -0.06253406405448914
         ],
         "z": [
          -0.09371965378522873
         ]
        },
        {
         "hovertemplate": "color=though<br>0=%{x}<br>1=%{y}<br>2=%{z}<extra></extra>",
         "legendgroup": "though",
         "marker": {
          "color": "#FECB52",
          "symbol": "circle"
         },
         "mode": "markers",
         "name": "though",
         "scene": "scene",
         "showlegend": true,
         "type": "scatter3d",
         "x": [
          0.5769805312156677
         ],
         "y": [
          -0.0426226444542408
         ],
         "z": [
          -0.07099919021129608
         ]
        },
        {
         "hovertemplate": "color=talked<br>0=%{x}<br>1=%{y}<br>2=%{z}<extra></extra>",
         "legendgroup": "talked",
         "marker": {
          "color": "#636efa",
          "symbol": "circle"
         },
         "mode": "markers",
         "name": "talked",
         "scene": "scene",
         "showlegend": true,
         "type": "scatter3d",
         "x": [
          0.41820549964904785
         ],
         "y": [
          -0.057124994695186615
         ],
         "z": [
          -0.039942365139722824
         ]
        },
        {
         "hovertemplate": "color=card<br>0=%{x}<br>1=%{y}<br>2=%{z}<extra></extra>",
         "legendgroup": "card",
         "marker": {
          "color": "#EF553B",
          "symbol": "circle"
         },
         "mode": "markers",
         "name": "card",
         "scene": "scene",
         "showlegend": true,
         "type": "scatter3d",
         "x": [
          -0.04120383411645889
         ],
         "y": [
          -0.022804606705904007
         ],
         "z": [
          -0.1363719254732132
         ]
        },
        {
         "hovertemplate": "color=alone<br>0=%{x}<br>1=%{y}<br>2=%{z}<extra></extra>",
         "legendgroup": "alone",
         "marker": {
          "color": "#00cc96",
          "symbol": "circle"
         },
         "mode": "markers",
         "name": "alone",
         "scene": "scene",
         "showlegend": true,
         "type": "scatter3d",
         "x": [
          0.3627500832080841
         ],
         "y": [
          0.0065608276054263115
         ],
         "z": [
          -0.03481433168053627
         ]
        },
        {
         "hovertemplate": "color=definitely<br>0=%{x}<br>1=%{y}<br>2=%{z}<extra></extra>",
         "legendgroup": "definitely",
         "marker": {
          "color": "#ab63fa",
          "symbol": "circle"
         },
         "mode": "markers",
         "name": "definitely",
         "scene": "scene",
         "showlegend": true,
         "type": "scatter3d",
         "x": [
          0.43725720047950745
         ],
         "y": [
          -0.027141021564602852
         ],
         "z": [
          -0.12694840133190155
         ]
        },
        {
         "hovertemplate": "color=meant<br>0=%{x}<br>1=%{y}<br>2=%{z}<extra></extra>",
         "legendgroup": "meant",
         "marker": {
          "color": "#FFA15A",
          "symbol": "circle"
         },
         "mode": "markers",
         "name": "meant",
         "scene": "scene",
         "showlegend": true,
         "type": "scatter3d",
         "x": [
          0.4866296648979187
         ],
         "y": [
          -0.08786077797412872
         ],
         "z": [
          -0.04157001152634621
         ]
        },
        {
         "hovertemplate": "color=boss<br>0=%{x}<br>1=%{y}<br>2=%{z}<extra></extra>",
         "legendgroup": "boss",
         "marker": {
          "color": "#19d3f3",
          "symbol": "circle"
         },
         "mode": "markers",
         "name": "boss",
         "scene": "scene",
         "showlegend": true,
         "type": "scatter3d",
         "x": [
          -0.036795660853385925
         ],
         "y": [
          -0.011829826980829239
         ],
         "z": [
          -0.1262291520833969
         ]
        },
        {
         "hovertemplate": "color=sick<br>0=%{x}<br>1=%{y}<br>2=%{z}<extra></extra>",
         "legendgroup": "sick",
         "marker": {
          "color": "#FF6692",
          "symbol": "circle"
         },
         "mode": "markers",
         "name": "sick",
         "scene": "scene",
         "showlegend": true,
         "type": "scatter3d",
         "x": [
          0.41380926966667175
         ],
         "y": [
          -0.1329750418663025
         ],
         "z": [
          -0.003169033443555236
         ]
        },
        {
         "hovertemplate": "color=weren<br>0=%{x}<br>1=%{y}<br>2=%{z}<extra></extra>",
         "legendgroup": "weren",
         "marker": {
          "color": "#B6E880",
          "symbol": "circle"
         },
         "mode": "markers",
         "name": "weren",
         "scene": "scene",
         "showlegend": true,
         "type": "scatter3d",
         "x": [
          0.4404955208301544
         ],
         "y": [
          -0.1792827695608139
         ],
         "z": [
          0.07857289165258408
         ]
        },
        {
         "hovertemplate": "color=terrible<br>0=%{x}<br>1=%{y}<br>2=%{z}<extra></extra>",
         "legendgroup": "terrible",
         "marker": {
          "color": "#FF97FF",
          "symbol": "circle"
         },
         "mode": "markers",
         "name": "terrible",
         "scene": "scene",
         "showlegend": true,
         "type": "scatter3d",
         "x": [
          0.5460628271102905
         ],
         "y": [
          -0.0867263525724411
         ],
         "z": [
          0.013464379124343395
         ]
        },
        {
         "hovertemplate": "color=hug<br>0=%{x}<br>1=%{y}<br>2=%{z}<extra></extra>",
         "legendgroup": "hug",
         "marker": {
          "color": "#FECB52",
          "symbol": "circle"
         },
         "mode": "markers",
         "name": "hug",
         "scene": "scene",
         "showlegend": true,
         "type": "scatter3d",
         "x": [
          -0.0077311331406235695
         ],
         "y": [
          0.013481448404490948
         ],
         "z": [
          -0.02060152031481266
         ]
        },
        {
         "hovertemplate": "color=men<br>0=%{x}<br>1=%{y}<br>2=%{z}<extra></extra>",
         "legendgroup": "men",
         "marker": {
          "color": "#636efa",
          "symbol": "circle"
         },
         "mode": "markers",
         "name": "men",
         "scene": "scene",
         "showlegend": true,
         "type": "scatter3d",
         "x": [
          0.037872686982154846
         ],
         "y": [
          -0.1881149709224701
         ],
         "z": [
          0.029064960777759552
         ]
        },
        {
         "hovertemplate": "color=feeling<br>0=%{x}<br>1=%{y}<br>2=%{z}<extra></extra>",
         "legendgroup": "feeling",
         "marker": {
          "color": "#EF553B",
          "symbol": "circle"
         },
         "mode": "markers",
         "name": "feeling",
         "scene": "scene",
         "showlegend": true,
         "type": "scatter3d",
         "x": [
          0.6032568216323853
         ],
         "y": [
          -0.13326209783554077
         ],
         "z": [
          0.06760938465595245
         ]
        },
        {
         "hovertemplate": "color=die<br>0=%{x}<br>1=%{y}<br>2=%{z}<extra></extra>",
         "legendgroup": "die",
         "marker": {
          "color": "#00cc96",
          "symbol": "circle"
         },
         "mode": "markers",
         "name": "die",
         "scene": "scene",
         "showlegend": true,
         "type": "scatter3d",
         "x": [
          0.30507442355155945
         ],
         "y": [
          -0.18221044540405273
         ],
         "z": [
          0.042584821581840515
         ]
        },
        {
         "hovertemplate": "color=figure<br>0=%{x}<br>1=%{y}<br>2=%{z}<extra></extra>",
         "legendgroup": "figure",
         "marker": {
          "color": "#ab63fa",
          "symbol": "circle"
         },
         "mode": "markers",
         "name": "figure",
         "scene": "scene",
         "showlegend": true,
         "type": "scatter3d",
         "x": [
          0.3731441795825958
         ],
         "y": [
          -0.08844088762998581
         ],
         "z": [
          -0.0023359269835054874
         ]
        },
        {
         "hovertemplate": "color=building<br>0=%{x}<br>1=%{y}<br>2=%{z}<extra></extra>",
         "legendgroup": "building",
         "marker": {
          "color": "#FFA15A",
          "symbol": "circle"
         },
         "mode": "markers",
         "name": "building",
         "scene": "scene",
         "showlegend": true,
         "type": "scatter3d",
         "x": [
          -0.33560922741889954
         ],
         "y": [
          0.02113254740834236
         ],
         "z": [
          0.0429508201777935
         ]
        },
        {
         "hovertemplate": "color=susan<br>0=%{x}<br>1=%{y}<br>2=%{z}<extra></extra>",
         "legendgroup": "susan",
         "marker": {
          "color": "#19d3f3",
          "symbol": "circle"
         },
         "mode": "markers",
         "name": "susan",
         "scene": "scene",
         "showlegend": true,
         "type": "scatter3d",
         "x": [
          -0.1226237416267395
         ],
         "y": [
          -0.0014787925174459815
         ],
         "z": [
          -0.037386875599622726
         ]
        },
        {
         "hovertemplate": "color=runs<br>0=%{x}<br>1=%{y}<br>2=%{z}<extra></extra>",
         "legendgroup": "runs",
         "marker": {
          "color": "#FF6692",
          "symbol": "circle"
         },
         "mode": "markers",
         "name": "runs",
         "scene": "scene",
         "showlegend": true,
         "type": "scatter3d",
         "x": [
          -0.5013348460197449
         ],
         "y": [
          0.17716944217681885
         ],
         "z": [
          0.06173558905720711
         ]
        },
        {
         "hovertemplate": "color=duck<br>0=%{x}<br>1=%{y}<br>2=%{z}<extra></extra>",
         "legendgroup": "duck",
         "marker": {
          "color": "#B6E880",
          "symbol": "circle"
         },
         "mode": "markers",
         "name": "duck",
         "scene": "scene",
         "showlegend": true,
         "type": "scatter3d",
         "x": [
          -0.2619587182998657
         ],
         "y": [
          0.06054402515292168
         ],
         "z": [
          -0.06877933442592621
         ]
        },
        {
         "hovertemplate": "color=julie<br>0=%{x}<br>1=%{y}<br>2=%{z}<extra></extra>",
         "legendgroup": "julie",
         "marker": {
          "color": "#FF97FF",
          "symbol": "circle"
         },
         "mode": "markers",
         "name": "julie",
         "scene": "scene",
         "showlegend": true,
         "type": "scatter3d",
         "x": [
          0.06266772001981735
         ],
         "y": [
          0.13199162483215332
         ],
         "z": [
          -0.18898698687553406
         ]
        },
        {
         "hovertemplate": "color=call<br>0=%{x}<br>1=%{y}<br>2=%{z}<extra></extra>",
         "legendgroup": "call",
         "marker": {
          "color": "#FECB52",
          "symbol": "circle"
         },
         "mode": "markers",
         "name": "call",
         "scene": "scene",
         "showlegend": true,
         "type": "scatter3d",
         "x": [
          0.3870735168457031
         ],
         "y": [
          -0.016794996336102486
         ],
         "z": [
          -0.17101030051708221
         ]
        },
        {
         "hovertemplate": "color=smell<br>0=%{x}<br>1=%{y}<br>2=%{z}<extra></extra>",
         "legendgroup": "smell",
         "marker": {
          "color": "#636efa",
          "symbol": "circle"
         },
         "mode": "markers",
         "name": "smell",
         "scene": "scene",
         "showlegend": true,
         "type": "scatter3d",
         "x": [
          0.2454368770122528
         ],
         "y": [
          -0.07187933474779129
         ],
         "z": [
          -0.12835277616977692
         ]
        },
        {
         "hovertemplate": "color=part<br>0=%{x}<br>1=%{y}<br>2=%{z}<extra></extra>",
         "legendgroup": "part",
         "marker": {
          "color": "#EF553B",
          "symbol": "circle"
         },
         "mode": "markers",
         "name": "part",
         "scene": "scene",
         "showlegend": true,
         "type": "scatter3d",
         "x": [
          0.4096592664718628
         ],
         "y": [
          -0.0984368845820427
         ],
         "z": [
          -0.07609425485134125
         ]
        },
        {
         "hovertemplate": "color=tape<br>0=%{x}<br>1=%{y}<br>2=%{z}<extra></extra>",
         "legendgroup": "tape",
         "marker": {
          "color": "#00cc96",
          "symbol": "circle"
         },
         "mode": "markers",
         "name": "tape",
         "scene": "scene",
         "showlegend": true,
         "type": "scatter3d",
         "x": [
          -0.017832711338996887
         ],
         "y": [
          -0.01497519202530384
         ],
         "z": [
          -0.12608744204044342
         ]
        },
        {
         "hovertemplate": "color=enough<br>0=%{x}<br>1=%{y}<br>2=%{z}<extra></extra>",
         "legendgroup": "enough",
         "marker": {
          "color": "#ab63fa",
          "symbol": "circle"
         },
         "mode": "markers",
         "name": "enough",
         "scene": "scene",
         "showlegend": true,
         "type": "scatter3d",
         "x": [
          0.33237317204475403
         ],
         "y": [
          -0.11469783633947372
         ],
         "z": [
          -0.07213640213012695
         ]
        },
        {
         "hovertemplate": "color=floor<br>0=%{x}<br>1=%{y}<br>2=%{z}<extra></extra>",
         "legendgroup": "floor",
         "marker": {
          "color": "#FFA15A",
          "symbol": "circle"
         },
         "mode": "markers",
         "name": "floor",
         "scene": "scene",
         "showlegend": true,
         "type": "scatter3d",
         "x": [
          -0.2653343975543976
         ],
         "y": [
          0.04000581428408623
         ],
         "z": [
          -0.05829129368066788
         ]
        },
        {
         "hovertemplate": "color=marriage<br>0=%{x}<br>1=%{y}<br>2=%{z}<extra></extra>",
         "legendgroup": "marriage",
         "marker": {
          "color": "#19d3f3",
          "symbol": "circle"
         },
         "mode": "markers",
         "name": "marriage",
         "scene": "scene",
         "showlegend": true,
         "type": "scatter3d",
         "x": [
          0.3397192060947418
         ],
         "y": [
          -0.17362080514431
         ],
         "z": [
          -0.0007095863111317158
         ]
        },
        {
         "hovertemplate": "color=lose<br>0=%{x}<br>1=%{y}<br>2=%{z}<extra></extra>",
         "legendgroup": "lose",
         "marker": {
          "color": "#FF6692",
          "symbol": "circle"
         },
         "mode": "markers",
         "name": "lose",
         "scene": "scene",
         "showlegend": true,
         "type": "scatter3d",
         "x": [
          0.5441941022872925
         ],
         "y": [
          -0.07051385194063187
         ],
         "z": [
          -0.05699564144015312
         ]
        },
        {
         "hovertemplate": "color=fight<br>0=%{x}<br>1=%{y}<br>2=%{z}<extra></extra>",
         "legendgroup": "fight",
         "marker": {
          "color": "#B6E880",
          "symbol": "circle"
         },
         "mode": "markers",
         "name": "fight",
         "scene": "scene",
         "showlegend": true,
         "type": "scatter3d",
         "x": [
          0.4121093153953552
         ],
         "y": [
          -0.06575560569763184
         ],
         "z": [
          -0.07664822041988373
         ]
        },
        {
         "hovertemplate": "color=brother<br>0=%{x}<br>1=%{y}<br>2=%{z}<extra></extra>",
         "legendgroup": "brother",
         "marker": {
          "color": "#FF97FF",
          "symbol": "circle"
         },
         "mode": "markers",
         "name": "brother",
         "scene": "scene",
         "showlegend": true,
         "type": "scatter3d",
         "x": [
          0.3229961395263672
         ],
         "y": [
          -0.10952236503362656
         ],
         "z": [
          -0.01893548108637333
         ]
        },
        {
         "hovertemplate": "color=relax<br>0=%{x}<br>1=%{y}<br>2=%{z}<extra></extra>",
         "legendgroup": "relax",
         "marker": {
          "color": "#FECB52",
          "symbol": "circle"
         },
         "mode": "markers",
         "name": "relax",
         "scene": "scene",
         "showlegend": true,
         "type": "scatter3d",
         "x": [
          0.2614411413669586
         ],
         "y": [
          0.008663471788167953
         ],
         "z": [
          -0.18188165128231049
         ]
        },
        {
         "hovertemplate": "color=paper<br>0=%{x}<br>1=%{y}<br>2=%{z}<extra></extra>",
         "legendgroup": "paper",
         "marker": {
          "color": "#636efa",
          "symbol": "circle"
         },
         "mode": "markers",
         "name": "paper",
         "scene": "scene",
         "showlegend": true,
         "type": "scatter3d",
         "x": [
          -0.2441229224205017
         ],
         "y": [
          0.013742371462285519
         ],
         "z": [
          -0.04892629757523537
         ]
        },
        {
         "hovertemplate": "color=doin<br>0=%{x}<br>1=%{y}<br>2=%{z}<extra></extra>",
         "legendgroup": "doin",
         "marker": {
          "color": "#EF553B",
          "symbol": "circle"
         },
         "mode": "markers",
         "name": "doin",
         "scene": "scene",
         "showlegend": true,
         "type": "scatter3d",
         "x": [
          0.30260854959487915
         ],
         "y": [
          0.29470428824424744
         ],
         "z": [
          -0.21007424592971802
         ]
        },
        {
         "hovertemplate": "color=frank<br>0=%{x}<br>1=%{y}<br>2=%{z}<extra></extra>",
         "legendgroup": "frank",
         "marker": {
          "color": "#00cc96",
          "symbol": "circle"
         },
         "mode": "markers",
         "name": "frank",
         "scene": "scene",
         "showlegend": true,
         "type": "scatter3d",
         "x": [
          0.05126562342047691
         ],
         "y": [
          0.04736718535423279
         ],
         "z": [
          -0.16170430183410645
         ]
        },
        {
         "hovertemplate": "color=monkey<br>0=%{x}<br>1=%{y}<br>2=%{z}<extra></extra>",
         "legendgroup": "monkey",
         "marker": {
          "color": "#ab63fa",
          "symbol": "circle"
         },
         "mode": "markers",
         "name": "monkey",
         "scene": "scene",
         "showlegend": true,
         "type": "scatter3d",
         "x": [
          0.13367317616939545
         ],
         "y": [
          -0.14302778244018555
         ],
         "z": [
          -0.06439007818698883
         ]
        },
        {
         "hovertemplate": "color=hospital<br>0=%{x}<br>1=%{y}<br>2=%{z}<extra></extra>",
         "legendgroup": "hospital",
         "marker": {
          "color": "#FFA15A",
          "symbol": "circle"
         },
         "mode": "markers",
         "name": "hospital",
         "scene": "scene",
         "showlegend": true,
         "type": "scatter3d",
         "x": [
          -0.1863975077867508
         ],
         "y": [
          0.07923954725265503
         ],
         "z": [
          -0.11574652045965195
         ]
        },
        {
         "hovertemplate": "color=shot<br>0=%{x}<br>1=%{y}<br>2=%{z}<extra></extra>",
         "legendgroup": "shot",
         "marker": {
          "color": "#19d3f3",
          "symbol": "circle"
         },
         "mode": "markers",
         "name": "shot",
         "scene": "scene",
         "showlegend": true,
         "type": "scatter3d",
         "x": [
          0.19885537028312683
         ],
         "y": [
          -0.15251898765563965
         ],
         "z": [
          -0.03038749471306801
         ]
        },
        {
         "hovertemplate": "color=leaves<br>0=%{x}<br>1=%{y}<br>2=%{z}<extra></extra>",
         "legendgroup": "leaves",
         "marker": {
          "color": "#FF6692",
          "symbol": "circle"
         },
         "mode": "markers",
         "name": "leaves",
         "scene": "scene",
         "showlegend": true,
         "type": "scatter3d",
         "x": [
          -0.4177899658679962
         ],
         "y": [
          0.0978144109249115
         ],
         "z": [
          0.04432240501046181
         ]
        },
        {
         "hovertemplate": "color=son<br>0=%{x}<br>1=%{y}<br>2=%{z}<extra></extra>",
         "legendgroup": "son",
         "marker": {
          "color": "#B6E880",
          "symbol": "circle"
         },
         "mode": "markers",
         "name": "son",
         "scene": "scene",
         "showlegend": true,
         "type": "scatter3d",
         "x": [
          0.22183862328529358
         ],
         "y": [
          -0.1034901812672615
         ],
         "z": [
          -0.09141168743371964
         ]
        },
        {
         "hovertemplate": "color=tickets<br>0=%{x}<br>1=%{y}<br>2=%{z}<extra></extra>",
         "legendgroup": "tickets",
         "marker": {
          "color": "#FF97FF",
          "symbol": "circle"
         },
         "mode": "markers",
         "name": "tickets",
         "scene": "scene",
         "showlegend": true,
         "type": "scatter3d",
         "x": [
          0.24589833617210388
         ],
         "y": [
          -0.030074343085289
         ],
         "z": [
          -0.14862573146820068
         ]
        },
        {
         "hovertemplate": "color=eh<br>0=%{x}<br>1=%{y}<br>2=%{z}<extra></extra>",
         "legendgroup": "eh",
         "marker": {
          "color": "#FECB52",
          "symbol": "circle"
         },
         "mode": "markers",
         "name": "eh",
         "scene": "scene",
         "showlegend": true,
         "type": "scatter3d",
         "x": [
          0.46600231528282166
         ],
         "y": [
          -0.04983780160546303
         ],
         "z": [
          -0.08359083533287048
         ]
        },
        {
         "hovertemplate": "color=store<br>0=%{x}<br>1=%{y}<br>2=%{z}<extra></extra>",
         "legendgroup": "store",
         "marker": {
          "color": "#636efa",
          "symbol": "circle"
         },
         "mode": "markers",
         "name": "store",
         "scene": "scene",
         "showlegend": true,
         "type": "scatter3d",
         "x": [
          -0.2976924180984497
         ],
         "y": [
          -0.09364968538284302
         ],
         "z": [
          0.10821232944726944
         ]
        },
        {
         "hovertemplate": "color=brought<br>0=%{x}<br>1=%{y}<br>2=%{z}<extra></extra>",
         "legendgroup": "brought",
         "marker": {
          "color": "#EF553B",
          "symbol": "circle"
         },
         "mode": "markers",
         "name": "brought",
         "scene": "scene",
         "showlegend": true,
         "type": "scatter3d",
         "x": [
          0.01952926628291607
         ],
         "y": [
          0.05043642967939377
         ],
         "z": [
          -0.19591785967350006
         ]
        },
        {
         "hovertemplate": "color=tribbiani<br>0=%{x}<br>1=%{y}<br>2=%{z}<extra></extra>",
         "legendgroup": "tribbiani",
         "marker": {
          "color": "#00cc96",
          "symbol": "circle"
         },
         "mode": "markers",
         "name": "tribbiani",
         "scene": "scene",
         "showlegend": true,
         "type": "scatter3d",
         "x": [
          -0.13513310253620148
         ],
         "y": [
          0.11145142465829849
         ],
         "z": [
          -0.10684613138437271
         ]
        },
        {
         "hovertemplate": "color=forgot<br>0=%{x}<br>1=%{y}<br>2=%{z}<extra></extra>",
         "legendgroup": "forgot",
         "marker": {
          "color": "#ab63fa",
          "symbol": "circle"
         },
         "mode": "markers",
         "name": "forgot",
         "scene": "scene",
         "showlegend": true,
         "type": "scatter3d",
         "x": [
          0.2940822243690491
         ],
         "y": [
          0.0701557919383049
         ],
         "z": [
          -0.2239934206008911
         ]
        },
        {
         "hovertemplate": "color=surprise<br>0=%{x}<br>1=%{y}<br>2=%{z}<extra></extra>",
         "legendgroup": "surprise",
         "marker": {
          "color": "#FFA15A",
          "symbol": "circle"
         },
         "mode": "markers",
         "name": "surprise",
         "scene": "scene",
         "showlegend": true,
         "type": "scatter3d",
         "x": [
          0.12691982090473175
         ],
         "y": [
          -0.053013578057289124
         ],
         "z": [
          -0.06070730835199356
         ]
        },
        {
         "hovertemplate": "color=asleep<br>0=%{x}<br>1=%{y}<br>2=%{z}<extra></extra>",
         "legendgroup": "asleep",
         "marker": {
          "color": "#19d3f3",
          "symbol": "circle"
         },
         "mode": "markers",
         "name": "asleep",
         "scene": "scene",
         "showlegend": true,
         "type": "scatter3d",
         "x": [
          -0.05456129088997841
         ],
         "y": [
          -0.119414322078228
         ],
         "z": [
          -0.015107418410480022
         ]
        },
        {
         "hovertemplate": "color=shut<br>0=%{x}<br>1=%{y}<br>2=%{z}<extra></extra>",
         "legendgroup": "shut",
         "marker": {
          "color": "#FF6692",
          "symbol": "circle"
         },
         "mode": "markers",
         "name": "shut",
         "scene": "scene",
         "showlegend": true,
         "type": "scatter3d",
         "x": [
          0.0403020903468132
         ],
         "y": [
          0.02923787198960781
         ],
         "z": [
          -0.11866497993469238
         ]
        },
        {
         "hovertemplate": "color=shower<br>0=%{x}<br>1=%{y}<br>2=%{z}<extra></extra>",
         "legendgroup": "shower",
         "marker": {
          "color": "#B6E880",
          "symbol": "circle"
         },
         "mode": "markers",
         "name": "shower",
         "scene": "scene",
         "showlegend": true,
         "type": "scatter3d",
         "x": [
          -0.09771198779344559
         ],
         "y": [
          0.03008797951042652
         ],
         "z": [
          -0.14670845866203308
         ]
        },
        {
         "hovertemplate": "color=pizza<br>0=%{x}<br>1=%{y}<br>2=%{z}<extra></extra>",
         "legendgroup": "pizza",
         "marker": {
          "color": "#FF97FF",
          "symbol": "circle"
         },
         "mode": "markers",
         "name": "pizza",
         "scene": "scene",
         "showlegend": true,
         "type": "scatter3d",
         "x": [
          -0.14954639971256256
         ],
         "y": [
          0.11150094866752625
         ],
         "z": [
          -0.1696476936340332
         ]
        },
        {
         "hovertemplate": "color=past<br>0=%{x}<br>1=%{y}<br>2=%{z}<extra></extra>",
         "legendgroup": "past",
         "marker": {
          "color": "#FECB52",
          "symbol": "circle"
         },
         "mode": "markers",
         "name": "past",
         "scene": "scene",
         "showlegend": true,
         "type": "scatter3d",
         "x": [
          -0.14951421320438385
         ],
         "y": [
          -0.09963002800941467
         ],
         "z": [
          0.0030274142045527697
         ]
        },
        {
         "hovertemplate": "color=ever<br>0=%{x}<br>1=%{y}<br>2=%{z}<extra></extra>",
         "legendgroup": "ever",
         "marker": {
          "color": "#636efa",
          "symbol": "circle"
         },
         "mode": "markers",
         "name": "ever",
         "scene": "scene",
         "showlegend": true,
         "type": "scatter3d",
         "x": [
          0.29723066091537476
         ],
         "y": [
          -0.07041176408529282
         ],
         "z": [
          -0.1148042306303978
         ]
        },
        {
         "hovertemplate": "color=rings<br>0=%{x}<br>1=%{y}<br>2=%{z}<extra></extra>",
         "legendgroup": "rings",
         "marker": {
          "color": "#EF553B",
          "symbol": "circle"
         },
         "mode": "markers",
         "name": "rings",
         "scene": "scene",
         "showlegend": true,
         "type": "scatter3d",
         "x": [
          -0.4961373507976532
         ],
         "y": [
          0.21767766773700714
         ],
         "z": [
          0.02458352968096733
         ]
        },
        {
         "hovertemplate": "color=yourself<br>0=%{x}<br>1=%{y}<br>2=%{z}<extra></extra>",
         "legendgroup": "yourself",
         "marker": {
          "color": "#00cc96",
          "symbol": "circle"
         },
         "mode": "markers",
         "name": "yourself",
         "scene": "scene",
         "showlegend": true,
         "type": "scatter3d",
         "x": [
          0.4375160038471222
         ],
         "y": [
          -0.08019530773162842
         ],
         "z": [
          -0.06739892810583115
         ]
        },
        {
         "hovertemplate": "color=message<br>0=%{x}<br>1=%{y}<br>2=%{z}<extra></extra>",
         "legendgroup": "message",
         "marker": {
          "color": "#ab63fa",
          "symbol": "circle"
         },
         "mode": "markers",
         "name": "message",
         "scene": "scene",
         "showlegend": true,
         "type": "scatter3d",
         "x": [
          0.12108459323644638
         ],
         "y": [
          0.0066705732606351376
         ],
         "z": [
          -0.1673785299062729
         ]
        },
        {
         "hovertemplate": "color=actor<br>0=%{x}<br>1=%{y}<br>2=%{z}<extra></extra>",
         "legendgroup": "actor",
         "marker": {
          "color": "#FFA15A",
          "symbol": "circle"
         },
         "mode": "markers",
         "name": "actor",
         "scene": "scene",
         "showlegend": true,
         "type": "scatter3d",
         "x": [
          0.20009911060333252
         ],
         "y": [
          -0.17524535953998566
         ],
         "z": [
          -0.012001329101622105
         ]
        },
        {
         "hovertemplate": "color=ice<br>0=%{x}<br>1=%{y}<br>2=%{z}<extra></extra>",
         "legendgroup": "ice",
         "marker": {
          "color": "#19d3f3",
          "symbol": "circle"
         },
         "mode": "markers",
         "name": "ice",
         "scene": "scene",
         "showlegend": true,
         "type": "scatter3d",
         "x": [
          0.10781446844339371
         ],
         "y": [
          -0.014743887819349766
         ],
         "z": [
          -0.13947293162345886
         ]
        },
        {
         "hovertemplate": "color=machine<br>0=%{x}<br>1=%{y}<br>2=%{z}<extra></extra>",
         "legendgroup": "machine",
         "marker": {
          "color": "#FF6692",
          "symbol": "circle"
         },
         "mode": "markers",
         "name": "machine",
         "scene": "scene",
         "showlegend": true,
         "type": "scatter3d",
         "x": [
          -0.004786815494298935
         ],
         "y": [
          -0.1209169253706932
         ],
         "z": [
          -0.052843622863292694
         ]
        },
        {
         "hovertemplate": "color=yep<br>0=%{x}<br>1=%{y}<br>2=%{z}<extra></extra>",
         "legendgroup": "yep",
         "marker": {
          "color": "#B6E880",
          "symbol": "circle"
         },
         "mode": "markers",
         "name": "yep",
         "scene": "scene",
         "showlegend": true,
         "type": "scatter3d",
         "x": [
          0.24571481347084045
         ],
         "y": [
          -0.023676905781030655
         ],
         "z": [
          -0.12922285497188568
         ]
        },
        {
         "hovertemplate": "color=able<br>0=%{x}<br>1=%{y}<br>2=%{z}<extra></extra>",
         "legendgroup": "able",
         "marker": {
          "color": "#FF97FF",
          "symbol": "circle"
         },
         "mode": "markers",
         "name": "able",
         "scene": "scene",
         "showlegend": true,
         "type": "scatter3d",
         "x": [
          0.3531434237957001
         ],
         "y": [
          -0.1958981156349182
         ],
         "z": [
          0.050817277282476425
         ]
        },
        {
         "hovertemplate": "color=lapse<br>0=%{x}<br>1=%{y}<br>2=%{z}<extra></extra>",
         "legendgroup": "lapse",
         "marker": {
          "color": "#FECB52",
          "symbol": "circle"
         },
         "mode": "markers",
         "name": "lapse",
         "scene": "scene",
         "showlegend": true,
         "type": "scatter3d",
         "x": [
          -0.4105287194252014
         ],
         "y": [
          0.02561623975634575
         ],
         "z": [
          0.21730226278305054
         ]
        }
       ],
       "layout": {
        "legend": {
         "title": {
          "text": "color"
         },
         "tracegroupgap": 0
        },
        "margin": {
         "t": 60
        },
        "scene": {
         "domain": {
          "x": [
           0,
           1
          ],
          "y": [
           0,
           1
          ]
         },
         "xaxis": {
          "title": {
           "text": "0"
          }
         },
         "yaxis": {
          "title": {
           "text": "1"
          }
         },
         "zaxis": {
          "title": {
           "text": "2"
          }
         }
        },
        "template": {
         "data": {
          "bar": [
           {
            "error_x": {
             "color": "#2a3f5f"
            },
            "error_y": {
             "color": "#2a3f5f"
            },
            "marker": {
             "line": {
              "color": "#E5ECF6",
              "width": 0.5
             },
             "pattern": {
              "fillmode": "overlay",
              "size": 10,
              "solidity": 0.2
             }
            },
            "type": "bar"
           }
          ],
          "barpolar": [
           {
            "marker": {
             "line": {
              "color": "#E5ECF6",
              "width": 0.5
             },
             "pattern": {
              "fillmode": "overlay",
              "size": 10,
              "solidity": 0.2
             }
            },
            "type": "barpolar"
           }
          ],
          "carpet": [
           {
            "aaxis": {
             "endlinecolor": "#2a3f5f",
             "gridcolor": "white",
             "linecolor": "white",
             "minorgridcolor": "white",
             "startlinecolor": "#2a3f5f"
            },
            "baxis": {
             "endlinecolor": "#2a3f5f",
             "gridcolor": "white",
             "linecolor": "white",
             "minorgridcolor": "white",
             "startlinecolor": "#2a3f5f"
            },
            "type": "carpet"
           }
          ],
          "choropleth": [
           {
            "colorbar": {
             "outlinewidth": 0,
             "ticks": ""
            },
            "type": "choropleth"
           }
          ],
          "contour": [
           {
            "colorbar": {
             "outlinewidth": 0,
             "ticks": ""
            },
            "colorscale": [
             [
              0,
              "#0d0887"
             ],
             [
              0.1111111111111111,
              "#46039f"
             ],
             [
              0.2222222222222222,
              "#7201a8"
             ],
             [
              0.3333333333333333,
              "#9c179e"
             ],
             [
              0.4444444444444444,
              "#bd3786"
             ],
             [
              0.5555555555555556,
              "#d8576b"
             ],
             [
              0.6666666666666666,
              "#ed7953"
             ],
             [
              0.7777777777777778,
              "#fb9f3a"
             ],
             [
              0.8888888888888888,
              "#fdca26"
             ],
             [
              1,
              "#f0f921"
             ]
            ],
            "type": "contour"
           }
          ],
          "contourcarpet": [
           {
            "colorbar": {
             "outlinewidth": 0,
             "ticks": ""
            },
            "type": "contourcarpet"
           }
          ],
          "heatmap": [
           {
            "colorbar": {
             "outlinewidth": 0,
             "ticks": ""
            },
            "colorscale": [
             [
              0,
              "#0d0887"
             ],
             [
              0.1111111111111111,
              "#46039f"
             ],
             [
              0.2222222222222222,
              "#7201a8"
             ],
             [
              0.3333333333333333,
              "#9c179e"
             ],
             [
              0.4444444444444444,
              "#bd3786"
             ],
             [
              0.5555555555555556,
              "#d8576b"
             ],
             [
              0.6666666666666666,
              "#ed7953"
             ],
             [
              0.7777777777777778,
              "#fb9f3a"
             ],
             [
              0.8888888888888888,
              "#fdca26"
             ],
             [
              1,
              "#f0f921"
             ]
            ],
            "type": "heatmap"
           }
          ],
          "heatmapgl": [
           {
            "colorbar": {
             "outlinewidth": 0,
             "ticks": ""
            },
            "colorscale": [
             [
              0,
              "#0d0887"
             ],
             [
              0.1111111111111111,
              "#46039f"
             ],
             [
              0.2222222222222222,
              "#7201a8"
             ],
             [
              0.3333333333333333,
              "#9c179e"
             ],
             [
              0.4444444444444444,
              "#bd3786"
             ],
             [
              0.5555555555555556,
              "#d8576b"
             ],
             [
              0.6666666666666666,
              "#ed7953"
             ],
             [
              0.7777777777777778,
              "#fb9f3a"
             ],
             [
              0.8888888888888888,
              "#fdca26"
             ],
             [
              1,
              "#f0f921"
             ]
            ],
            "type": "heatmapgl"
           }
          ],
          "histogram": [
           {
            "marker": {
             "pattern": {
              "fillmode": "overlay",
              "size": 10,
              "solidity": 0.2
             }
            },
            "type": "histogram"
           }
          ],
          "histogram2d": [
           {
            "colorbar": {
             "outlinewidth": 0,
             "ticks": ""
            },
            "colorscale": [
             [
              0,
              "#0d0887"
             ],
             [
              0.1111111111111111,
              "#46039f"
             ],
             [
              0.2222222222222222,
              "#7201a8"
             ],
             [
              0.3333333333333333,
              "#9c179e"
             ],
             [
              0.4444444444444444,
              "#bd3786"
             ],
             [
              0.5555555555555556,
              "#d8576b"
             ],
             [
              0.6666666666666666,
              "#ed7953"
             ],
             [
              0.7777777777777778,
              "#fb9f3a"
             ],
             [
              0.8888888888888888,
              "#fdca26"
             ],
             [
              1,
              "#f0f921"
             ]
            ],
            "type": "histogram2d"
           }
          ],
          "histogram2dcontour": [
           {
            "colorbar": {
             "outlinewidth": 0,
             "ticks": ""
            },
            "colorscale": [
             [
              0,
              "#0d0887"
             ],
             [
              0.1111111111111111,
              "#46039f"
             ],
             [
              0.2222222222222222,
              "#7201a8"
             ],
             [
              0.3333333333333333,
              "#9c179e"
             ],
             [
              0.4444444444444444,
              "#bd3786"
             ],
             [
              0.5555555555555556,
              "#d8576b"
             ],
             [
              0.6666666666666666,
              "#ed7953"
             ],
             [
              0.7777777777777778,
              "#fb9f3a"
             ],
             [
              0.8888888888888888,
              "#fdca26"
             ],
             [
              1,
              "#f0f921"
             ]
            ],
            "type": "histogram2dcontour"
           }
          ],
          "mesh3d": [
           {
            "colorbar": {
             "outlinewidth": 0,
             "ticks": ""
            },
            "type": "mesh3d"
           }
          ],
          "parcoords": [
           {
            "line": {
             "colorbar": {
              "outlinewidth": 0,
              "ticks": ""
             }
            },
            "type": "parcoords"
           }
          ],
          "pie": [
           {
            "automargin": true,
            "type": "pie"
           }
          ],
          "scatter": [
           {
            "fillpattern": {
             "fillmode": "overlay",
             "size": 10,
             "solidity": 0.2
            },
            "type": "scatter"
           }
          ],
          "scatter3d": [
           {
            "line": {
             "colorbar": {
              "outlinewidth": 0,
              "ticks": ""
             }
            },
            "marker": {
             "colorbar": {
              "outlinewidth": 0,
              "ticks": ""
             }
            },
            "type": "scatter3d"
           }
          ],
          "scattercarpet": [
           {
            "marker": {
             "colorbar": {
              "outlinewidth": 0,
              "ticks": ""
             }
            },
            "type": "scattercarpet"
           }
          ],
          "scattergeo": [
           {
            "marker": {
             "colorbar": {
              "outlinewidth": 0,
              "ticks": ""
             }
            },
            "type": "scattergeo"
           }
          ],
          "scattergl": [
           {
            "marker": {
             "colorbar": {
              "outlinewidth": 0,
              "ticks": ""
             }
            },
            "type": "scattergl"
           }
          ],
          "scattermapbox": [
           {
            "marker": {
             "colorbar": {
              "outlinewidth": 0,
              "ticks": ""
             }
            },
            "type": "scattermapbox"
           }
          ],
          "scatterpolar": [
           {
            "marker": {
             "colorbar": {
              "outlinewidth": 0,
              "ticks": ""
             }
            },
            "type": "scatterpolar"
           }
          ],
          "scatterpolargl": [
           {
            "marker": {
             "colorbar": {
              "outlinewidth": 0,
              "ticks": ""
             }
            },
            "type": "scatterpolargl"
           }
          ],
          "scatterternary": [
           {
            "marker": {
             "colorbar": {
              "outlinewidth": 0,
              "ticks": ""
             }
            },
            "type": "scatterternary"
           }
          ],
          "surface": [
           {
            "colorbar": {
             "outlinewidth": 0,
             "ticks": ""
            },
            "colorscale": [
             [
              0,
              "#0d0887"
             ],
             [
              0.1111111111111111,
              "#46039f"
             ],
             [
              0.2222222222222222,
              "#7201a8"
             ],
             [
              0.3333333333333333,
              "#9c179e"
             ],
             [
              0.4444444444444444,
              "#bd3786"
             ],
             [
              0.5555555555555556,
              "#d8576b"
             ],
             [
              0.6666666666666666,
              "#ed7953"
             ],
             [
              0.7777777777777778,
              "#fb9f3a"
             ],
             [
              0.8888888888888888,
              "#fdca26"
             ],
             [
              1,
              "#f0f921"
             ]
            ],
            "type": "surface"
           }
          ],
          "table": [
           {
            "cells": {
             "fill": {
              "color": "#EBF0F8"
             },
             "line": {
              "color": "white"
             }
            },
            "header": {
             "fill": {
              "color": "#C8D4E3"
             },
             "line": {
              "color": "white"
             }
            },
            "type": "table"
           }
          ]
         },
         "layout": {
          "annotationdefaults": {
           "arrowcolor": "#2a3f5f",
           "arrowhead": 0,
           "arrowwidth": 1
          },
          "autotypenumbers": "strict",
          "coloraxis": {
           "colorbar": {
            "outlinewidth": 0,
            "ticks": ""
           }
          },
          "colorscale": {
           "diverging": [
            [
             0,
             "#8e0152"
            ],
            [
             0.1,
             "#c51b7d"
            ],
            [
             0.2,
             "#de77ae"
            ],
            [
             0.3,
             "#f1b6da"
            ],
            [
             0.4,
             "#fde0ef"
            ],
            [
             0.5,
             "#f7f7f7"
            ],
            [
             0.6,
             "#e6f5d0"
            ],
            [
             0.7,
             "#b8e186"
            ],
            [
             0.8,
             "#7fbc41"
            ],
            [
             0.9,
             "#4d9221"
            ],
            [
             1,
             "#276419"
            ]
           ],
           "sequential": [
            [
             0,
             "#0d0887"
            ],
            [
             0.1111111111111111,
             "#46039f"
            ],
            [
             0.2222222222222222,
             "#7201a8"
            ],
            [
             0.3333333333333333,
             "#9c179e"
            ],
            [
             0.4444444444444444,
             "#bd3786"
            ],
            [
             0.5555555555555556,
             "#d8576b"
            ],
            [
             0.6666666666666666,
             "#ed7953"
            ],
            [
             0.7777777777777778,
             "#fb9f3a"
            ],
            [
             0.8888888888888888,
             "#fdca26"
            ],
            [
             1,
             "#f0f921"
            ]
           ],
           "sequentialminus": [
            [
             0,
             "#0d0887"
            ],
            [
             0.1111111111111111,
             "#46039f"
            ],
            [
             0.2222222222222222,
             "#7201a8"
            ],
            [
             0.3333333333333333,
             "#9c179e"
            ],
            [
             0.4444444444444444,
             "#bd3786"
            ],
            [
             0.5555555555555556,
             "#d8576b"
            ],
            [
             0.6666666666666666,
             "#ed7953"
            ],
            [
             0.7777777777777778,
             "#fb9f3a"
            ],
            [
             0.8888888888888888,
             "#fdca26"
            ],
            [
             1,
             "#f0f921"
            ]
           ]
          },
          "colorway": [
           "#636efa",
           "#EF553B",
           "#00cc96",
           "#ab63fa",
           "#FFA15A",
           "#19d3f3",
           "#FF6692",
           "#B6E880",
           "#FF97FF",
           "#FECB52"
          ],
          "font": {
           "color": "#2a3f5f"
          },
          "geo": {
           "bgcolor": "white",
           "lakecolor": "white",
           "landcolor": "#E5ECF6",
           "showlakes": true,
           "showland": true,
           "subunitcolor": "white"
          },
          "hoverlabel": {
           "align": "left"
          },
          "hovermode": "closest",
          "mapbox": {
           "style": "light"
          },
          "paper_bgcolor": "white",
          "plot_bgcolor": "#E5ECF6",
          "polar": {
           "angularaxis": {
            "gridcolor": "white",
            "linecolor": "white",
            "ticks": ""
           },
           "bgcolor": "#E5ECF6",
           "radialaxis": {
            "gridcolor": "white",
            "linecolor": "white",
            "ticks": ""
           }
          },
          "scene": {
           "xaxis": {
            "backgroundcolor": "#E5ECF6",
            "gridcolor": "white",
            "gridwidth": 2,
            "linecolor": "white",
            "showbackground": true,
            "ticks": "",
            "zerolinecolor": "white"
           },
           "yaxis": {
            "backgroundcolor": "#E5ECF6",
            "gridcolor": "white",
            "gridwidth": 2,
            "linecolor": "white",
            "showbackground": true,
            "ticks": "",
            "zerolinecolor": "white"
           },
           "zaxis": {
            "backgroundcolor": "#E5ECF6",
            "gridcolor": "white",
            "gridwidth": 2,
            "linecolor": "white",
            "showbackground": true,
            "ticks": "",
            "zerolinecolor": "white"
           }
          },
          "shapedefaults": {
           "line": {
            "color": "#2a3f5f"
           }
          },
          "ternary": {
           "aaxis": {
            "gridcolor": "white",
            "linecolor": "white",
            "ticks": ""
           },
           "baxis": {
            "gridcolor": "white",
            "linecolor": "white",
            "ticks": ""
           },
           "bgcolor": "#E5ECF6",
           "caxis": {
            "gridcolor": "white",
            "linecolor": "white",
            "ticks": ""
           }
          },
          "title": {
           "x": 0.05
          },
          "xaxis": {
           "automargin": true,
           "gridcolor": "white",
           "linecolor": "white",
           "ticks": "",
           "title": {
            "standoff": 15
           },
           "zerolinecolor": "white",
           "zerolinewidth": 2
          },
          "yaxis": {
           "automargin": true,
           "gridcolor": "white",
           "linecolor": "white",
           "ticks": "",
           "title": {
            "standoff": 15
           },
           "zerolinecolor": "white",
           "zerolinewidth": 2
          }
         }
        }
       }
      },
      "text/html": [
       "<div>                            <div id=\"cbb4a419-7b8b-4f82-9ca4-d647cda36747\" class=\"plotly-graph-div\" style=\"height:525px; width:100%;\"></div>            <script type=\"text/javascript\">                require([\"plotly\"], function(Plotly) {                    window.PLOTLYENV=window.PLOTLYENV || {};                                    if (document.getElementById(\"cbb4a419-7b8b-4f82-9ca4-d647cda36747\")) {                    Plotly.newPlot(                        \"cbb4a419-7b8b-4f82-9ca4-d647cda36747\",                        [{\"hovertemplate\":\"color=drink<br>0=%{x}<br>1=%{y}<br>2=%{z}<extra></extra>\",\"legendgroup\":\"drink\",\"marker\":{\"color\":\"#636efa\",\"symbol\":\"circle\"},\"mode\":\"markers\",\"name\":\"drink\",\"scene\":\"scene\",\"showlegend\":true,\"x\":[0.23707497119903564],\"y\":[0.0197747889906168],\"z\":[-0.17209376394748688],\"type\":\"scatter3d\"},{\"hovertemplate\":\"color=bag<br>0=%{x}<br>1=%{y}<br>2=%{z}<extra></extra>\",\"legendgroup\":\"bag\",\"marker\":{\"color\":\"#EF553B\",\"symbol\":\"circle\"},\"mode\":\"markers\",\"name\":\"bag\",\"scene\":\"scene\",\"showlegend\":true,\"x\":[-0.17122282087802887],\"y\":[0.07721856981515884],\"z\":[-0.1630735993385315],\"type\":\"scatter3d\"},{\"hovertemplate\":\"color=marry<br>0=%{x}<br>1=%{y}<br>2=%{z}<extra></extra>\",\"legendgroup\":\"marry\",\"marker\":{\"color\":\"#00cc96\",\"symbol\":\"circle\"},\"mode\":\"markers\",\"name\":\"marry\",\"scene\":\"scene\",\"showlegend\":true,\"x\":[0.5338698625564575],\"y\":[0.012470518238842487],\"z\":[-0.03507568687200546],\"type\":\"scatter3d\"},{\"hovertemplate\":\"color=pay<br>0=%{x}<br>1=%{y}<br>2=%{z}<extra></extra>\",\"legendgroup\":\"pay\",\"marker\":{\"color\":\"#ab63fa\",\"symbol\":\"circle\"},\"mode\":\"markers\",\"name\":\"pay\",\"scene\":\"scene\",\"showlegend\":true,\"x\":[0.4615802764892578],\"y\":[0.010430878028273582],\"z\":[-0.15650507807731628],\"type\":\"scatter3d\"},{\"hovertemplate\":\"color=dollars<br>0=%{x}<br>1=%{y}<br>2=%{z}<extra></extra>\",\"legendgroup\":\"dollars\",\"marker\":{\"color\":\"#FFA15A\",\"symbol\":\"circle\"},\"mode\":\"markers\",\"name\":\"dollars\",\"scene\":\"scene\",\"showlegend\":true,\"x\":[0.24432048201560974],\"y\":[-0.07422097772359848],\"z\":[-0.10658255219459534],\"type\":\"scatter3d\"},{\"hovertemplate\":\"color=moment<br>0=%{x}<br>1=%{y}<br>2=%{z}<extra></extra>\",\"legendgroup\":\"moment\",\"marker\":{\"color\":\"#19d3f3\",\"symbol\":\"circle\"},\"mode\":\"markers\",\"name\":\"moment\",\"scene\":\"scene\",\"showlegend\":true,\"x\":[0.11264723539352417],\"y\":[-0.03914567455649376],\"z\":[-0.11822812259197235],\"type\":\"scatter3d\"},{\"hovertemplate\":\"color=thinks<br>0=%{x}<br>1=%{y}<br>2=%{z}<extra></extra>\",\"legendgroup\":\"thinks\",\"marker\":{\"color\":\"#FF6692\",\"symbol\":\"circle\"},\"mode\":\"markers\",\"name\":\"thinks\",\"scene\":\"scene\",\"showlegend\":true,\"x\":[0.17576447129249573],\"y\":[-0.18818417191505432],\"z\":[0.036663319915533066],\"type\":\"scatter3d\"},{\"hovertemplate\":\"color=myself<br>0=%{x}<br>1=%{y}<br>2=%{z}<extra></extra>\",\"legendgroup\":\"myself\",\"marker\":{\"color\":\"#B6E880\",\"symbol\":\"circle\"},\"mode\":\"markers\",\"name\":\"myself\",\"scene\":\"scene\",\"showlegend\":true,\"x\":[0.5117183327674866],\"y\":[-0.08754163235425949],\"z\":[-0.06909796595573425],\"type\":\"scatter3d\"},{\"hovertemplate\":\"color=hour<br>0=%{x}<br>1=%{y}<br>2=%{z}<extra></extra>\",\"legendgroup\":\"hour\",\"marker\":{\"color\":\"#FF97FF\",\"symbol\":\"circle\"},\"mode\":\"markers\",\"name\":\"hour\",\"scene\":\"scene\",\"showlegend\":true,\"x\":[0.14042571187019348],\"y\":[-0.11178914457559586],\"z\":[-0.01126770954579115],\"type\":\"scatter3d\"},{\"hovertemplate\":\"color=lady<br>0=%{x}<br>1=%{y}<br>2=%{z}<extra></extra>\",\"legendgroup\":\"lady\",\"marker\":{\"color\":\"#FECB52\",\"symbol\":\"circle\"},\"mode\":\"markers\",\"name\":\"lady\",\"scene\":\"scene\",\"showlegend\":true,\"x\":[0.162638321518898],\"y\":[-0.1381242722272873],\"z\":[-0.07428977638483047],\"type\":\"scatter3d\"},{\"hovertemplate\":\"color=gunther<br>0=%{x}<br>1=%{y}<br>2=%{z}<extra></extra>\",\"legendgroup\":\"gunther\",\"marker\":{\"color\":\"#636efa\",\"symbol\":\"circle\"},\"mode\":\"markers\",\"name\":\"gunther\",\"scene\":\"scene\",\"showlegend\":true,\"x\":[-0.2508971095085144],\"y\":[0.1613903045654297],\"z\":[-0.11404525488615036],\"type\":\"scatter3d\"},{\"hovertemplate\":\"color=done<br>0=%{x}<br>1=%{y}<br>2=%{z}<extra></extra>\",\"legendgroup\":\"done\",\"marker\":{\"color\":\"#EF553B\",\"symbol\":\"circle\"},\"mode\":\"markers\",\"name\":\"done\",\"scene\":\"scene\",\"showlegend\":true,\"x\":[0.32289227843284607],\"y\":[0.012902435846626759],\"z\":[-0.1329217255115509],\"type\":\"scatter3d\"},{\"hovertemplate\":\"color=inside<br>0=%{x}<br>1=%{y}<br>2=%{z}<extra></extra>\",\"legendgroup\":\"inside\",\"marker\":{\"color\":\"#00cc96\",\"symbol\":\"circle\"},\"mode\":\"markers\",\"name\":\"inside\",\"scene\":\"scene\",\"showlegend\":true,\"x\":[-0.32932165265083313],\"y\":[0.02612774632871151],\"z\":[0.017507923766970634],\"type\":\"scatter3d\"},{\"hovertemplate\":\"color=marcel<br>0=%{x}<br>1=%{y}<br>2=%{z}<extra></extra>\",\"legendgroup\":\"marcel\",\"marker\":{\"color\":\"#ab63fa\",\"symbol\":\"circle\"},\"mode\":\"markers\",\"name\":\"marcel\",\"scene\":\"scene\",\"showlegend\":true,\"x\":[-0.32043707370758057],\"y\":[0.04350510239601135],\"z\":[-0.01727963238954544],\"type\":\"scatter3d\"},{\"hovertemplate\":\"color=class<br>0=%{x}<br>1=%{y}<br>2=%{z}<extra></extra>\",\"legendgroup\":\"class\",\"marker\":{\"color\":\"#FFA15A\",\"symbol\":\"circle\"},\"mode\":\"markers\",\"name\":\"class\",\"scene\":\"scene\",\"showlegend\":true,\"x\":[-0.16156043112277985],\"y\":[-0.059109173715114594],\"z\":[-0.02037113346159458],\"type\":\"scatter3d\"},{\"hovertemplate\":\"color=london<br>0=%{x}<br>1=%{y}<br>2=%{z}<extra></extra>\",\"legendgroup\":\"london\",\"marker\":{\"color\":\"#19d3f3\",\"symbol\":\"circle\"},\"mode\":\"markers\",\"name\":\"london\",\"scene\":\"scene\",\"showlegend\":true,\"x\":[0.13646551966667175],\"y\":[-0.07464785128831863],\"z\":[-0.07655851542949677],\"type\":\"scatter3d\"},{\"hovertemplate\":\"color=song<br>0=%{x}<br>1=%{y}<br>2=%{z}<extra></extra>\",\"legendgroup\":\"song\",\"marker\":{\"color\":\"#FF6692\",\"symbol\":\"circle\"},\"mode\":\"markers\",\"name\":\"song\",\"scene\":\"scene\",\"showlegend\":true,\"x\":[-0.10554176568984985],\"y\":[-0.04580391198396683],\"z\":[-0.07215381413698196],\"type\":\"scatter3d\"},{\"hovertemplate\":\"color=serious<br>0=%{x}<br>1=%{y}<br>2=%{z}<extra></extra>\",\"legendgroup\":\"serious\",\"marker\":{\"color\":\"#B6E880\",\"symbol\":\"circle\"},\"mode\":\"markers\",\"name\":\"serious\",\"scene\":\"scene\",\"showlegend\":true,\"x\":[0.4754509925842285],\"y\":[-0.09409922361373901],\"z\":[0.02540717087686062],\"type\":\"scatter3d\"},{\"hovertemplate\":\"color=hurt<br>0=%{x}<br>1=%{y}<br>2=%{z}<extra></extra>\",\"legendgroup\":\"hurt\",\"marker\":{\"color\":\"#FF97FF\",\"symbol\":\"circle\"},\"mode\":\"markers\",\"name\":\"hurt\",\"scene\":\"scene\",\"showlegend\":true,\"x\":[0.4792647957801819],\"y\":[-0.04961223527789116],\"z\":[-0.10544542223215103],\"type\":\"scatter3d\"},{\"hovertemplate\":\"color=lunch<br>0=%{x}<br>1=%{y}<br>2=%{z}<extra></extra>\",\"legendgroup\":\"lunch\",\"marker\":{\"color\":\"#FECB52\",\"symbol\":\"circle\"},\"mode\":\"markers\",\"name\":\"lunch\",\"scene\":\"scene\",\"showlegend\":true,\"x\":[0.15095007419586182],\"y\":[-0.021008579060435295],\"z\":[-0.1111060380935669],\"type\":\"scatter3d\"},{\"hovertemplate\":\"color=everyone<br>0=%{x}<br>1=%{y}<br>2=%{z}<extra></extra>\",\"legendgroup\":\"everyone\",\"marker\":{\"color\":\"#636efa\",\"symbol\":\"circle\"},\"mode\":\"markers\",\"name\":\"everyone\",\"scene\":\"scene\",\"showlegend\":true,\"x\":[-0.0288838017731905],\"y\":[0.0060751778073608875],\"z\":[-0.13326707482337952],\"type\":\"scatter3d\"},{\"hovertemplate\":\"color=free<br>0=%{x}<br>1=%{y}<br>2=%{z}<extra></extra>\",\"legendgroup\":\"free\",\"marker\":{\"color\":\"#EF553B\",\"symbol\":\"circle\"},\"mode\":\"markers\",\"name\":\"free\",\"scene\":\"scene\",\"showlegend\":true,\"x\":[0.10637200623750687],\"y\":[0.005770288873463869],\"z\":[-0.1671697497367859],\"type\":\"scatter3d\"},{\"hovertemplate\":\"color=water<br>0=%{x}<br>1=%{y}<br>2=%{z}<extra></extra>\",\"legendgroup\":\"water\",\"marker\":{\"color\":\"#00cc96\",\"symbol\":\"circle\"},\"mode\":\"markers\",\"name\":\"water\",\"scene\":\"scene\",\"showlegend\":true,\"x\":[-0.11725030839443207],\"y\":[-0.04404979571700096],\"z\":[-0.09128190577030182],\"type\":\"scatter3d\"},{\"hovertemplate\":\"color=girlfriend<br>0=%{x}<br>1=%{y}<br>2=%{z}<extra></extra>\",\"legendgroup\":\"girlfriend\",\"marker\":{\"color\":\"#ab63fa\",\"symbol\":\"circle\"},\"mode\":\"markers\",\"name\":\"girlfriend\",\"scene\":\"scene\",\"showlegend\":true,\"x\":[0.4867854416370392],\"y\":[-0.08205718547105789],\"z\":[0.022662071511149406],\"type\":\"scatter3d\"},{\"hovertemplate\":\"color=dead<br>0=%{x}<br>1=%{y}<br>2=%{z}<extra></extra>\",\"legendgroup\":\"dead\",\"marker\":{\"color\":\"#FFA15A\",\"symbol\":\"circle\"},\"mode\":\"markers\",\"name\":\"dead\",\"scene\":\"scene\",\"showlegend\":true,\"x\":[0.34036263823509216],\"y\":[-0.11847618967294693],\"z\":[-0.06624745577573776],\"type\":\"scatter3d\"},{\"hovertemplate\":\"color=kill<br>0=%{x}<br>1=%{y}<br>2=%{z}<extra></extra>\",\"legendgroup\":\"kill\",\"marker\":{\"color\":\"#19d3f3\",\"symbol\":\"circle\"},\"mode\":\"markers\",\"name\":\"kill\",\"scene\":\"scene\",\"showlegend\":true,\"x\":[0.4974899888038635],\"y\":[0.015378045849502087],\"z\":[-0.08295482397079468],\"type\":\"scatter3d\"},{\"hovertemplate\":\"color=hall<br>0=%{x}<br>1=%{y}<br>2=%{z}<extra></extra>\",\"legendgroup\":\"hall\",\"marker\":{\"color\":\"#FF6692\",\"symbol\":\"circle\"},\"mode\":\"markers\",\"name\":\"hall\",\"scene\":\"scene\",\"showlegend\":true,\"x\":[-0.26165661215782166],\"y\":[0.007169855758547783],\"z\":[-0.015548757277429104],\"type\":\"scatter3d\"},{\"hovertemplate\":\"color=welcome<br>0=%{x}<br>1=%{y}<br>2=%{z}<extra></extra>\",\"legendgroup\":\"welcome\",\"marker\":{\"color\":\"#B6E880\",\"symbol\":\"circle\"},\"mode\":\"markers\",\"name\":\"welcome\",\"scene\":\"scene\",\"showlegend\":true,\"x\":[0.24711626768112183],\"y\":[0.2828441262245178],\"z\":[-0.15507683157920837],\"type\":\"scatter3d\"},{\"hovertemplate\":\"color=sees<br>0=%{x}<br>1=%{y}<br>2=%{z}<extra></extra>\",\"legendgroup\":\"sees\",\"marker\":{\"color\":\"#FF97FF\",\"symbol\":\"circle\"},\"mode\":\"markers\",\"name\":\"sees\",\"scene\":\"scene\",\"showlegend\":true,\"x\":[-0.47220057249069214],\"y\":[0.1322488784790039],\"z\":[0.08168508112430573],\"type\":\"scatter3d\"},{\"hovertemplate\":\"color=word<br>0=%{x}<br>1=%{y}<br>2=%{z}<extra></extra>\",\"legendgroup\":\"word\",\"marker\":{\"color\":\"#FECB52\",\"symbol\":\"circle\"},\"mode\":\"markers\",\"name\":\"word\",\"scene\":\"scene\",\"showlegend\":true,\"x\":[0.18984799087047577],\"y\":[-0.04856360703706741],\"z\":[-0.15255051851272583],\"type\":\"scatter3d\"},{\"hovertemplate\":\"color=news<br>0=%{x}<br>1=%{y}<br>2=%{z}<extra></extra>\",\"legendgroup\":\"news\",\"marker\":{\"color\":\"#636efa\",\"symbol\":\"circle\"},\"mode\":\"markers\",\"name\":\"news\",\"scene\":\"scene\",\"showlegend\":true,\"x\":[0.4187368154525757],\"y\":[0.06936271488666534],\"z\":[-0.07117048650979996],\"type\":\"scatter3d\"},{\"hovertemplate\":\"color=soon<br>0=%{x}<br>1=%{y}<br>2=%{z}<extra></extra>\",\"legendgroup\":\"soon\",\"marker\":{\"color\":\"#EF553B\",\"symbol\":\"circle\"},\"mode\":\"markers\",\"name\":\"soon\",\"scene\":\"scene\",\"showlegend\":true,\"x\":[0.38759350776672363],\"y\":[-0.08218155056238174],\"z\":[-0.0036332665476948023],\"type\":\"scatter3d\"},{\"hovertemplate\":\"color=leaving<br>0=%{x}<br>1=%{y}<br>2=%{z}<extra></extra>\",\"legendgroup\":\"leaving\",\"marker\":{\"color\":\"#00cc96\",\"symbol\":\"circle\"},\"mode\":\"markers\",\"name\":\"leaving\",\"scene\":\"scene\",\"showlegend\":true,\"x\":[0.06929071247577667],\"y\":[-0.012378259561955929],\"z\":[-0.09195741266012192],\"type\":\"scatter3d\"},{\"hovertemplate\":\"color=promise<br>0=%{x}<br>1=%{y}<br>2=%{z}<extra></extra>\",\"legendgroup\":\"promise\",\"marker\":{\"color\":\"#ab63fa\",\"symbol\":\"circle\"},\"mode\":\"markers\",\"name\":\"promise\",\"scene\":\"scene\",\"showlegend\":true,\"x\":[0.6332489848136902],\"y\":[0.18623417615890503],\"z\":[-0.08251556009054184],\"type\":\"scatter3d\"},{\"hovertemplate\":\"color=holding<br>0=%{x}<br>1=%{y}<br>2=%{z}<extra></extra>\",\"legendgroup\":\"holding\",\"marker\":{\"color\":\"#FFA15A\",\"symbol\":\"circle\"},\"mode\":\"markers\",\"name\":\"holding\",\"scene\":\"scene\",\"showlegend\":true,\"x\":[-0.36445000767707825],\"y\":[0.09321624785661697],\"z\":[-0.0034282009582966566],\"type\":\"scatter3d\"},{\"hovertemplate\":\"color=clothes<br>0=%{x}<br>1=%{y}<br>2=%{z}<extra></extra>\",\"legendgroup\":\"clothes\",\"marker\":{\"color\":\"#19d3f3\",\"symbol\":\"circle\"},\"mode\":\"markers\",\"name\":\"clothes\",\"scene\":\"scene\",\"showlegend\":true,\"x\":[-0.09502613544464111],\"y\":[-0.03661549836397171],\"z\":[-0.05148801580071449],\"type\":\"scatter3d\"},{\"hovertemplate\":\"color=city<br>0=%{x}<br>1=%{y}<br>2=%{z}<extra></extra>\",\"legendgroup\":\"city\",\"marker\":{\"color\":\"#FF6692\",\"symbol\":\"circle\"},\"mode\":\"markers\",\"name\":\"city\",\"scene\":\"scene\",\"showlegend\":true,\"x\":[-0.12383567541837692],\"y\":[-0.1952143907546997],\"z\":[0.12950702011585236],\"type\":\"scatter3d\"},{\"hovertemplate\":\"color=earlier<br>0=%{x}<br>1=%{y}<br>2=%{z}<extra></extra>\",\"legendgroup\":\"earlier\",\"marker\":{\"color\":\"#B6E880\",\"symbol\":\"circle\"},\"mode\":\"markers\",\"name\":\"earlier\",\"scene\":\"scene\",\"showlegend\":true,\"x\":[-0.5101041793823242],\"y\":[0.12351569533348083],\"z\":[0.1413152813911438],\"type\":\"scatter3d\"},{\"hovertemplate\":\"color=answer<br>0=%{x}<br>1=%{y}<br>2=%{z}<extra></extra>\",\"legendgroup\":\"answer\",\"marker\":{\"color\":\"#FF97FF\",\"symbol\":\"circle\"},\"mode\":\"markers\",\"name\":\"answer\",\"scene\":\"scene\",\"showlegend\":true,\"x\":[0.3455968499183655],\"y\":[-0.06253406405448914],\"z\":[-0.09371965378522873],\"type\":\"scatter3d\"},{\"hovertemplate\":\"color=though<br>0=%{x}<br>1=%{y}<br>2=%{z}<extra></extra>\",\"legendgroup\":\"though\",\"marker\":{\"color\":\"#FECB52\",\"symbol\":\"circle\"},\"mode\":\"markers\",\"name\":\"though\",\"scene\":\"scene\",\"showlegend\":true,\"x\":[0.5769805312156677],\"y\":[-0.0426226444542408],\"z\":[-0.07099919021129608],\"type\":\"scatter3d\"},{\"hovertemplate\":\"color=talked<br>0=%{x}<br>1=%{y}<br>2=%{z}<extra></extra>\",\"legendgroup\":\"talked\",\"marker\":{\"color\":\"#636efa\",\"symbol\":\"circle\"},\"mode\":\"markers\",\"name\":\"talked\",\"scene\":\"scene\",\"showlegend\":true,\"x\":[0.41820549964904785],\"y\":[-0.057124994695186615],\"z\":[-0.039942365139722824],\"type\":\"scatter3d\"},{\"hovertemplate\":\"color=card<br>0=%{x}<br>1=%{y}<br>2=%{z}<extra></extra>\",\"legendgroup\":\"card\",\"marker\":{\"color\":\"#EF553B\",\"symbol\":\"circle\"},\"mode\":\"markers\",\"name\":\"card\",\"scene\":\"scene\",\"showlegend\":true,\"x\":[-0.04120383411645889],\"y\":[-0.022804606705904007],\"z\":[-0.1363719254732132],\"type\":\"scatter3d\"},{\"hovertemplate\":\"color=alone<br>0=%{x}<br>1=%{y}<br>2=%{z}<extra></extra>\",\"legendgroup\":\"alone\",\"marker\":{\"color\":\"#00cc96\",\"symbol\":\"circle\"},\"mode\":\"markers\",\"name\":\"alone\",\"scene\":\"scene\",\"showlegend\":true,\"x\":[0.3627500832080841],\"y\":[0.0065608276054263115],\"z\":[-0.03481433168053627],\"type\":\"scatter3d\"},{\"hovertemplate\":\"color=definitely<br>0=%{x}<br>1=%{y}<br>2=%{z}<extra></extra>\",\"legendgroup\":\"definitely\",\"marker\":{\"color\":\"#ab63fa\",\"symbol\":\"circle\"},\"mode\":\"markers\",\"name\":\"definitely\",\"scene\":\"scene\",\"showlegend\":true,\"x\":[0.43725720047950745],\"y\":[-0.027141021564602852],\"z\":[-0.12694840133190155],\"type\":\"scatter3d\"},{\"hovertemplate\":\"color=meant<br>0=%{x}<br>1=%{y}<br>2=%{z}<extra></extra>\",\"legendgroup\":\"meant\",\"marker\":{\"color\":\"#FFA15A\",\"symbol\":\"circle\"},\"mode\":\"markers\",\"name\":\"meant\",\"scene\":\"scene\",\"showlegend\":true,\"x\":[0.4866296648979187],\"y\":[-0.08786077797412872],\"z\":[-0.04157001152634621],\"type\":\"scatter3d\"},{\"hovertemplate\":\"color=boss<br>0=%{x}<br>1=%{y}<br>2=%{z}<extra></extra>\",\"legendgroup\":\"boss\",\"marker\":{\"color\":\"#19d3f3\",\"symbol\":\"circle\"},\"mode\":\"markers\",\"name\":\"boss\",\"scene\":\"scene\",\"showlegend\":true,\"x\":[-0.036795660853385925],\"y\":[-0.011829826980829239],\"z\":[-0.1262291520833969],\"type\":\"scatter3d\"},{\"hovertemplate\":\"color=sick<br>0=%{x}<br>1=%{y}<br>2=%{z}<extra></extra>\",\"legendgroup\":\"sick\",\"marker\":{\"color\":\"#FF6692\",\"symbol\":\"circle\"},\"mode\":\"markers\",\"name\":\"sick\",\"scene\":\"scene\",\"showlegend\":true,\"x\":[0.41380926966667175],\"y\":[-0.1329750418663025],\"z\":[-0.003169033443555236],\"type\":\"scatter3d\"},{\"hovertemplate\":\"color=weren<br>0=%{x}<br>1=%{y}<br>2=%{z}<extra></extra>\",\"legendgroup\":\"weren\",\"marker\":{\"color\":\"#B6E880\",\"symbol\":\"circle\"},\"mode\":\"markers\",\"name\":\"weren\",\"scene\":\"scene\",\"showlegend\":true,\"x\":[0.4404955208301544],\"y\":[-0.1792827695608139],\"z\":[0.07857289165258408],\"type\":\"scatter3d\"},{\"hovertemplate\":\"color=terrible<br>0=%{x}<br>1=%{y}<br>2=%{z}<extra></extra>\",\"legendgroup\":\"terrible\",\"marker\":{\"color\":\"#FF97FF\",\"symbol\":\"circle\"},\"mode\":\"markers\",\"name\":\"terrible\",\"scene\":\"scene\",\"showlegend\":true,\"x\":[0.5460628271102905],\"y\":[-0.0867263525724411],\"z\":[0.013464379124343395],\"type\":\"scatter3d\"},{\"hovertemplate\":\"color=hug<br>0=%{x}<br>1=%{y}<br>2=%{z}<extra></extra>\",\"legendgroup\":\"hug\",\"marker\":{\"color\":\"#FECB52\",\"symbol\":\"circle\"},\"mode\":\"markers\",\"name\":\"hug\",\"scene\":\"scene\",\"showlegend\":true,\"x\":[-0.0077311331406235695],\"y\":[0.013481448404490948],\"z\":[-0.02060152031481266],\"type\":\"scatter3d\"},{\"hovertemplate\":\"color=men<br>0=%{x}<br>1=%{y}<br>2=%{z}<extra></extra>\",\"legendgroup\":\"men\",\"marker\":{\"color\":\"#636efa\",\"symbol\":\"circle\"},\"mode\":\"markers\",\"name\":\"men\",\"scene\":\"scene\",\"showlegend\":true,\"x\":[0.037872686982154846],\"y\":[-0.1881149709224701],\"z\":[0.029064960777759552],\"type\":\"scatter3d\"},{\"hovertemplate\":\"color=feeling<br>0=%{x}<br>1=%{y}<br>2=%{z}<extra></extra>\",\"legendgroup\":\"feeling\",\"marker\":{\"color\":\"#EF553B\",\"symbol\":\"circle\"},\"mode\":\"markers\",\"name\":\"feeling\",\"scene\":\"scene\",\"showlegend\":true,\"x\":[0.6032568216323853],\"y\":[-0.13326209783554077],\"z\":[0.06760938465595245],\"type\":\"scatter3d\"},{\"hovertemplate\":\"color=die<br>0=%{x}<br>1=%{y}<br>2=%{z}<extra></extra>\",\"legendgroup\":\"die\",\"marker\":{\"color\":\"#00cc96\",\"symbol\":\"circle\"},\"mode\":\"markers\",\"name\":\"die\",\"scene\":\"scene\",\"showlegend\":true,\"x\":[0.30507442355155945],\"y\":[-0.18221044540405273],\"z\":[0.042584821581840515],\"type\":\"scatter3d\"},{\"hovertemplate\":\"color=figure<br>0=%{x}<br>1=%{y}<br>2=%{z}<extra></extra>\",\"legendgroup\":\"figure\",\"marker\":{\"color\":\"#ab63fa\",\"symbol\":\"circle\"},\"mode\":\"markers\",\"name\":\"figure\",\"scene\":\"scene\",\"showlegend\":true,\"x\":[0.3731441795825958],\"y\":[-0.08844088762998581],\"z\":[-0.0023359269835054874],\"type\":\"scatter3d\"},{\"hovertemplate\":\"color=building<br>0=%{x}<br>1=%{y}<br>2=%{z}<extra></extra>\",\"legendgroup\":\"building\",\"marker\":{\"color\":\"#FFA15A\",\"symbol\":\"circle\"},\"mode\":\"markers\",\"name\":\"building\",\"scene\":\"scene\",\"showlegend\":true,\"x\":[-0.33560922741889954],\"y\":[0.02113254740834236],\"z\":[0.0429508201777935],\"type\":\"scatter3d\"},{\"hovertemplate\":\"color=susan<br>0=%{x}<br>1=%{y}<br>2=%{z}<extra></extra>\",\"legendgroup\":\"susan\",\"marker\":{\"color\":\"#19d3f3\",\"symbol\":\"circle\"},\"mode\":\"markers\",\"name\":\"susan\",\"scene\":\"scene\",\"showlegend\":true,\"x\":[-0.1226237416267395],\"y\":[-0.0014787925174459815],\"z\":[-0.037386875599622726],\"type\":\"scatter3d\"},{\"hovertemplate\":\"color=runs<br>0=%{x}<br>1=%{y}<br>2=%{z}<extra></extra>\",\"legendgroup\":\"runs\",\"marker\":{\"color\":\"#FF6692\",\"symbol\":\"circle\"},\"mode\":\"markers\",\"name\":\"runs\",\"scene\":\"scene\",\"showlegend\":true,\"x\":[-0.5013348460197449],\"y\":[0.17716944217681885],\"z\":[0.06173558905720711],\"type\":\"scatter3d\"},{\"hovertemplate\":\"color=duck<br>0=%{x}<br>1=%{y}<br>2=%{z}<extra></extra>\",\"legendgroup\":\"duck\",\"marker\":{\"color\":\"#B6E880\",\"symbol\":\"circle\"},\"mode\":\"markers\",\"name\":\"duck\",\"scene\":\"scene\",\"showlegend\":true,\"x\":[-0.2619587182998657],\"y\":[0.06054402515292168],\"z\":[-0.06877933442592621],\"type\":\"scatter3d\"},{\"hovertemplate\":\"color=julie<br>0=%{x}<br>1=%{y}<br>2=%{z}<extra></extra>\",\"legendgroup\":\"julie\",\"marker\":{\"color\":\"#FF97FF\",\"symbol\":\"circle\"},\"mode\":\"markers\",\"name\":\"julie\",\"scene\":\"scene\",\"showlegend\":true,\"x\":[0.06266772001981735],\"y\":[0.13199162483215332],\"z\":[-0.18898698687553406],\"type\":\"scatter3d\"},{\"hovertemplate\":\"color=call<br>0=%{x}<br>1=%{y}<br>2=%{z}<extra></extra>\",\"legendgroup\":\"call\",\"marker\":{\"color\":\"#FECB52\",\"symbol\":\"circle\"},\"mode\":\"markers\",\"name\":\"call\",\"scene\":\"scene\",\"showlegend\":true,\"x\":[0.3870735168457031],\"y\":[-0.016794996336102486],\"z\":[-0.17101030051708221],\"type\":\"scatter3d\"},{\"hovertemplate\":\"color=smell<br>0=%{x}<br>1=%{y}<br>2=%{z}<extra></extra>\",\"legendgroup\":\"smell\",\"marker\":{\"color\":\"#636efa\",\"symbol\":\"circle\"},\"mode\":\"markers\",\"name\":\"smell\",\"scene\":\"scene\",\"showlegend\":true,\"x\":[0.2454368770122528],\"y\":[-0.07187933474779129],\"z\":[-0.12835277616977692],\"type\":\"scatter3d\"},{\"hovertemplate\":\"color=part<br>0=%{x}<br>1=%{y}<br>2=%{z}<extra></extra>\",\"legendgroup\":\"part\",\"marker\":{\"color\":\"#EF553B\",\"symbol\":\"circle\"},\"mode\":\"markers\",\"name\":\"part\",\"scene\":\"scene\",\"showlegend\":true,\"x\":[0.4096592664718628],\"y\":[-0.0984368845820427],\"z\":[-0.07609425485134125],\"type\":\"scatter3d\"},{\"hovertemplate\":\"color=tape<br>0=%{x}<br>1=%{y}<br>2=%{z}<extra></extra>\",\"legendgroup\":\"tape\",\"marker\":{\"color\":\"#00cc96\",\"symbol\":\"circle\"},\"mode\":\"markers\",\"name\":\"tape\",\"scene\":\"scene\",\"showlegend\":true,\"x\":[-0.017832711338996887],\"y\":[-0.01497519202530384],\"z\":[-0.12608744204044342],\"type\":\"scatter3d\"},{\"hovertemplate\":\"color=enough<br>0=%{x}<br>1=%{y}<br>2=%{z}<extra></extra>\",\"legendgroup\":\"enough\",\"marker\":{\"color\":\"#ab63fa\",\"symbol\":\"circle\"},\"mode\":\"markers\",\"name\":\"enough\",\"scene\":\"scene\",\"showlegend\":true,\"x\":[0.33237317204475403],\"y\":[-0.11469783633947372],\"z\":[-0.07213640213012695],\"type\":\"scatter3d\"},{\"hovertemplate\":\"color=floor<br>0=%{x}<br>1=%{y}<br>2=%{z}<extra></extra>\",\"legendgroup\":\"floor\",\"marker\":{\"color\":\"#FFA15A\",\"symbol\":\"circle\"},\"mode\":\"markers\",\"name\":\"floor\",\"scene\":\"scene\",\"showlegend\":true,\"x\":[-0.2653343975543976],\"y\":[0.04000581428408623],\"z\":[-0.05829129368066788],\"type\":\"scatter3d\"},{\"hovertemplate\":\"color=marriage<br>0=%{x}<br>1=%{y}<br>2=%{z}<extra></extra>\",\"legendgroup\":\"marriage\",\"marker\":{\"color\":\"#19d3f3\",\"symbol\":\"circle\"},\"mode\":\"markers\",\"name\":\"marriage\",\"scene\":\"scene\",\"showlegend\":true,\"x\":[0.3397192060947418],\"y\":[-0.17362080514431],\"z\":[-0.0007095863111317158],\"type\":\"scatter3d\"},{\"hovertemplate\":\"color=lose<br>0=%{x}<br>1=%{y}<br>2=%{z}<extra></extra>\",\"legendgroup\":\"lose\",\"marker\":{\"color\":\"#FF6692\",\"symbol\":\"circle\"},\"mode\":\"markers\",\"name\":\"lose\",\"scene\":\"scene\",\"showlegend\":true,\"x\":[0.5441941022872925],\"y\":[-0.07051385194063187],\"z\":[-0.05699564144015312],\"type\":\"scatter3d\"},{\"hovertemplate\":\"color=fight<br>0=%{x}<br>1=%{y}<br>2=%{z}<extra></extra>\",\"legendgroup\":\"fight\",\"marker\":{\"color\":\"#B6E880\",\"symbol\":\"circle\"},\"mode\":\"markers\",\"name\":\"fight\",\"scene\":\"scene\",\"showlegend\":true,\"x\":[0.4121093153953552],\"y\":[-0.06575560569763184],\"z\":[-0.07664822041988373],\"type\":\"scatter3d\"},{\"hovertemplate\":\"color=brother<br>0=%{x}<br>1=%{y}<br>2=%{z}<extra></extra>\",\"legendgroup\":\"brother\",\"marker\":{\"color\":\"#FF97FF\",\"symbol\":\"circle\"},\"mode\":\"markers\",\"name\":\"brother\",\"scene\":\"scene\",\"showlegend\":true,\"x\":[0.3229961395263672],\"y\":[-0.10952236503362656],\"z\":[-0.01893548108637333],\"type\":\"scatter3d\"},{\"hovertemplate\":\"color=relax<br>0=%{x}<br>1=%{y}<br>2=%{z}<extra></extra>\",\"legendgroup\":\"relax\",\"marker\":{\"color\":\"#FECB52\",\"symbol\":\"circle\"},\"mode\":\"markers\",\"name\":\"relax\",\"scene\":\"scene\",\"showlegend\":true,\"x\":[0.2614411413669586],\"y\":[0.008663471788167953],\"z\":[-0.18188165128231049],\"type\":\"scatter3d\"},{\"hovertemplate\":\"color=paper<br>0=%{x}<br>1=%{y}<br>2=%{z}<extra></extra>\",\"legendgroup\":\"paper\",\"marker\":{\"color\":\"#636efa\",\"symbol\":\"circle\"},\"mode\":\"markers\",\"name\":\"paper\",\"scene\":\"scene\",\"showlegend\":true,\"x\":[-0.2441229224205017],\"y\":[0.013742371462285519],\"z\":[-0.04892629757523537],\"type\":\"scatter3d\"},{\"hovertemplate\":\"color=doin<br>0=%{x}<br>1=%{y}<br>2=%{z}<extra></extra>\",\"legendgroup\":\"doin\",\"marker\":{\"color\":\"#EF553B\",\"symbol\":\"circle\"},\"mode\":\"markers\",\"name\":\"doin\",\"scene\":\"scene\",\"showlegend\":true,\"x\":[0.30260854959487915],\"y\":[0.29470428824424744],\"z\":[-0.21007424592971802],\"type\":\"scatter3d\"},{\"hovertemplate\":\"color=frank<br>0=%{x}<br>1=%{y}<br>2=%{z}<extra></extra>\",\"legendgroup\":\"frank\",\"marker\":{\"color\":\"#00cc96\",\"symbol\":\"circle\"},\"mode\":\"markers\",\"name\":\"frank\",\"scene\":\"scene\",\"showlegend\":true,\"x\":[0.05126562342047691],\"y\":[0.04736718535423279],\"z\":[-0.16170430183410645],\"type\":\"scatter3d\"},{\"hovertemplate\":\"color=monkey<br>0=%{x}<br>1=%{y}<br>2=%{z}<extra></extra>\",\"legendgroup\":\"monkey\",\"marker\":{\"color\":\"#ab63fa\",\"symbol\":\"circle\"},\"mode\":\"markers\",\"name\":\"monkey\",\"scene\":\"scene\",\"showlegend\":true,\"x\":[0.13367317616939545],\"y\":[-0.14302778244018555],\"z\":[-0.06439007818698883],\"type\":\"scatter3d\"},{\"hovertemplate\":\"color=hospital<br>0=%{x}<br>1=%{y}<br>2=%{z}<extra></extra>\",\"legendgroup\":\"hospital\",\"marker\":{\"color\":\"#FFA15A\",\"symbol\":\"circle\"},\"mode\":\"markers\",\"name\":\"hospital\",\"scene\":\"scene\",\"showlegend\":true,\"x\":[-0.1863975077867508],\"y\":[0.07923954725265503],\"z\":[-0.11574652045965195],\"type\":\"scatter3d\"},{\"hovertemplate\":\"color=shot<br>0=%{x}<br>1=%{y}<br>2=%{z}<extra></extra>\",\"legendgroup\":\"shot\",\"marker\":{\"color\":\"#19d3f3\",\"symbol\":\"circle\"},\"mode\":\"markers\",\"name\":\"shot\",\"scene\":\"scene\",\"showlegend\":true,\"x\":[0.19885537028312683],\"y\":[-0.15251898765563965],\"z\":[-0.03038749471306801],\"type\":\"scatter3d\"},{\"hovertemplate\":\"color=leaves<br>0=%{x}<br>1=%{y}<br>2=%{z}<extra></extra>\",\"legendgroup\":\"leaves\",\"marker\":{\"color\":\"#FF6692\",\"symbol\":\"circle\"},\"mode\":\"markers\",\"name\":\"leaves\",\"scene\":\"scene\",\"showlegend\":true,\"x\":[-0.4177899658679962],\"y\":[0.0978144109249115],\"z\":[0.04432240501046181],\"type\":\"scatter3d\"},{\"hovertemplate\":\"color=son<br>0=%{x}<br>1=%{y}<br>2=%{z}<extra></extra>\",\"legendgroup\":\"son\",\"marker\":{\"color\":\"#B6E880\",\"symbol\":\"circle\"},\"mode\":\"markers\",\"name\":\"son\",\"scene\":\"scene\",\"showlegend\":true,\"x\":[0.22183862328529358],\"y\":[-0.1034901812672615],\"z\":[-0.09141168743371964],\"type\":\"scatter3d\"},{\"hovertemplate\":\"color=tickets<br>0=%{x}<br>1=%{y}<br>2=%{z}<extra></extra>\",\"legendgroup\":\"tickets\",\"marker\":{\"color\":\"#FF97FF\",\"symbol\":\"circle\"},\"mode\":\"markers\",\"name\":\"tickets\",\"scene\":\"scene\",\"showlegend\":true,\"x\":[0.24589833617210388],\"y\":[-0.030074343085289],\"z\":[-0.14862573146820068],\"type\":\"scatter3d\"},{\"hovertemplate\":\"color=eh<br>0=%{x}<br>1=%{y}<br>2=%{z}<extra></extra>\",\"legendgroup\":\"eh\",\"marker\":{\"color\":\"#FECB52\",\"symbol\":\"circle\"},\"mode\":\"markers\",\"name\":\"eh\",\"scene\":\"scene\",\"showlegend\":true,\"x\":[0.46600231528282166],\"y\":[-0.04983780160546303],\"z\":[-0.08359083533287048],\"type\":\"scatter3d\"},{\"hovertemplate\":\"color=store<br>0=%{x}<br>1=%{y}<br>2=%{z}<extra></extra>\",\"legendgroup\":\"store\",\"marker\":{\"color\":\"#636efa\",\"symbol\":\"circle\"},\"mode\":\"markers\",\"name\":\"store\",\"scene\":\"scene\",\"showlegend\":true,\"x\":[-0.2976924180984497],\"y\":[-0.09364968538284302],\"z\":[0.10821232944726944],\"type\":\"scatter3d\"},{\"hovertemplate\":\"color=brought<br>0=%{x}<br>1=%{y}<br>2=%{z}<extra></extra>\",\"legendgroup\":\"brought\",\"marker\":{\"color\":\"#EF553B\",\"symbol\":\"circle\"},\"mode\":\"markers\",\"name\":\"brought\",\"scene\":\"scene\",\"showlegend\":true,\"x\":[0.01952926628291607],\"y\":[0.05043642967939377],\"z\":[-0.19591785967350006],\"type\":\"scatter3d\"},{\"hovertemplate\":\"color=tribbiani<br>0=%{x}<br>1=%{y}<br>2=%{z}<extra></extra>\",\"legendgroup\":\"tribbiani\",\"marker\":{\"color\":\"#00cc96\",\"symbol\":\"circle\"},\"mode\":\"markers\",\"name\":\"tribbiani\",\"scene\":\"scene\",\"showlegend\":true,\"x\":[-0.13513310253620148],\"y\":[0.11145142465829849],\"z\":[-0.10684613138437271],\"type\":\"scatter3d\"},{\"hovertemplate\":\"color=forgot<br>0=%{x}<br>1=%{y}<br>2=%{z}<extra></extra>\",\"legendgroup\":\"forgot\",\"marker\":{\"color\":\"#ab63fa\",\"symbol\":\"circle\"},\"mode\":\"markers\",\"name\":\"forgot\",\"scene\":\"scene\",\"showlegend\":true,\"x\":[0.2940822243690491],\"y\":[0.0701557919383049],\"z\":[-0.2239934206008911],\"type\":\"scatter3d\"},{\"hovertemplate\":\"color=surprise<br>0=%{x}<br>1=%{y}<br>2=%{z}<extra></extra>\",\"legendgroup\":\"surprise\",\"marker\":{\"color\":\"#FFA15A\",\"symbol\":\"circle\"},\"mode\":\"markers\",\"name\":\"surprise\",\"scene\":\"scene\",\"showlegend\":true,\"x\":[0.12691982090473175],\"y\":[-0.053013578057289124],\"z\":[-0.06070730835199356],\"type\":\"scatter3d\"},{\"hovertemplate\":\"color=asleep<br>0=%{x}<br>1=%{y}<br>2=%{z}<extra></extra>\",\"legendgroup\":\"asleep\",\"marker\":{\"color\":\"#19d3f3\",\"symbol\":\"circle\"},\"mode\":\"markers\",\"name\":\"asleep\",\"scene\":\"scene\",\"showlegend\":true,\"x\":[-0.05456129088997841],\"y\":[-0.119414322078228],\"z\":[-0.015107418410480022],\"type\":\"scatter3d\"},{\"hovertemplate\":\"color=shut<br>0=%{x}<br>1=%{y}<br>2=%{z}<extra></extra>\",\"legendgroup\":\"shut\",\"marker\":{\"color\":\"#FF6692\",\"symbol\":\"circle\"},\"mode\":\"markers\",\"name\":\"shut\",\"scene\":\"scene\",\"showlegend\":true,\"x\":[0.0403020903468132],\"y\":[0.02923787198960781],\"z\":[-0.11866497993469238],\"type\":\"scatter3d\"},{\"hovertemplate\":\"color=shower<br>0=%{x}<br>1=%{y}<br>2=%{z}<extra></extra>\",\"legendgroup\":\"shower\",\"marker\":{\"color\":\"#B6E880\",\"symbol\":\"circle\"},\"mode\":\"markers\",\"name\":\"shower\",\"scene\":\"scene\",\"showlegend\":true,\"x\":[-0.09771198779344559],\"y\":[0.03008797951042652],\"z\":[-0.14670845866203308],\"type\":\"scatter3d\"},{\"hovertemplate\":\"color=pizza<br>0=%{x}<br>1=%{y}<br>2=%{z}<extra></extra>\",\"legendgroup\":\"pizza\",\"marker\":{\"color\":\"#FF97FF\",\"symbol\":\"circle\"},\"mode\":\"markers\",\"name\":\"pizza\",\"scene\":\"scene\",\"showlegend\":true,\"x\":[-0.14954639971256256],\"y\":[0.11150094866752625],\"z\":[-0.1696476936340332],\"type\":\"scatter3d\"},{\"hovertemplate\":\"color=past<br>0=%{x}<br>1=%{y}<br>2=%{z}<extra></extra>\",\"legendgroup\":\"past\",\"marker\":{\"color\":\"#FECB52\",\"symbol\":\"circle\"},\"mode\":\"markers\",\"name\":\"past\",\"scene\":\"scene\",\"showlegend\":true,\"x\":[-0.14951421320438385],\"y\":[-0.09963002800941467],\"z\":[0.0030274142045527697],\"type\":\"scatter3d\"},{\"hovertemplate\":\"color=ever<br>0=%{x}<br>1=%{y}<br>2=%{z}<extra></extra>\",\"legendgroup\":\"ever\",\"marker\":{\"color\":\"#636efa\",\"symbol\":\"circle\"},\"mode\":\"markers\",\"name\":\"ever\",\"scene\":\"scene\",\"showlegend\":true,\"x\":[0.29723066091537476],\"y\":[-0.07041176408529282],\"z\":[-0.1148042306303978],\"type\":\"scatter3d\"},{\"hovertemplate\":\"color=rings<br>0=%{x}<br>1=%{y}<br>2=%{z}<extra></extra>\",\"legendgroup\":\"rings\",\"marker\":{\"color\":\"#EF553B\",\"symbol\":\"circle\"},\"mode\":\"markers\",\"name\":\"rings\",\"scene\":\"scene\",\"showlegend\":true,\"x\":[-0.4961373507976532],\"y\":[0.21767766773700714],\"z\":[0.02458352968096733],\"type\":\"scatter3d\"},{\"hovertemplate\":\"color=yourself<br>0=%{x}<br>1=%{y}<br>2=%{z}<extra></extra>\",\"legendgroup\":\"yourself\",\"marker\":{\"color\":\"#00cc96\",\"symbol\":\"circle\"},\"mode\":\"markers\",\"name\":\"yourself\",\"scene\":\"scene\",\"showlegend\":true,\"x\":[0.4375160038471222],\"y\":[-0.08019530773162842],\"z\":[-0.06739892810583115],\"type\":\"scatter3d\"},{\"hovertemplate\":\"color=message<br>0=%{x}<br>1=%{y}<br>2=%{z}<extra></extra>\",\"legendgroup\":\"message\",\"marker\":{\"color\":\"#ab63fa\",\"symbol\":\"circle\"},\"mode\":\"markers\",\"name\":\"message\",\"scene\":\"scene\",\"showlegend\":true,\"x\":[0.12108459323644638],\"y\":[0.0066705732606351376],\"z\":[-0.1673785299062729],\"type\":\"scatter3d\"},{\"hovertemplate\":\"color=actor<br>0=%{x}<br>1=%{y}<br>2=%{z}<extra></extra>\",\"legendgroup\":\"actor\",\"marker\":{\"color\":\"#FFA15A\",\"symbol\":\"circle\"},\"mode\":\"markers\",\"name\":\"actor\",\"scene\":\"scene\",\"showlegend\":true,\"x\":[0.20009911060333252],\"y\":[-0.17524535953998566],\"z\":[-0.012001329101622105],\"type\":\"scatter3d\"},{\"hovertemplate\":\"color=ice<br>0=%{x}<br>1=%{y}<br>2=%{z}<extra></extra>\",\"legendgroup\":\"ice\",\"marker\":{\"color\":\"#19d3f3\",\"symbol\":\"circle\"},\"mode\":\"markers\",\"name\":\"ice\",\"scene\":\"scene\",\"showlegend\":true,\"x\":[0.10781446844339371],\"y\":[-0.014743887819349766],\"z\":[-0.13947293162345886],\"type\":\"scatter3d\"},{\"hovertemplate\":\"color=machine<br>0=%{x}<br>1=%{y}<br>2=%{z}<extra></extra>\",\"legendgroup\":\"machine\",\"marker\":{\"color\":\"#FF6692\",\"symbol\":\"circle\"},\"mode\":\"markers\",\"name\":\"machine\",\"scene\":\"scene\",\"showlegend\":true,\"x\":[-0.004786815494298935],\"y\":[-0.1209169253706932],\"z\":[-0.052843622863292694],\"type\":\"scatter3d\"},{\"hovertemplate\":\"color=yep<br>0=%{x}<br>1=%{y}<br>2=%{z}<extra></extra>\",\"legendgroup\":\"yep\",\"marker\":{\"color\":\"#B6E880\",\"symbol\":\"circle\"},\"mode\":\"markers\",\"name\":\"yep\",\"scene\":\"scene\",\"showlegend\":true,\"x\":[0.24571481347084045],\"y\":[-0.023676905781030655],\"z\":[-0.12922285497188568],\"type\":\"scatter3d\"},{\"hovertemplate\":\"color=able<br>0=%{x}<br>1=%{y}<br>2=%{z}<extra></extra>\",\"legendgroup\":\"able\",\"marker\":{\"color\":\"#FF97FF\",\"symbol\":\"circle\"},\"mode\":\"markers\",\"name\":\"able\",\"scene\":\"scene\",\"showlegend\":true,\"x\":[0.3531434237957001],\"y\":[-0.1958981156349182],\"z\":[0.050817277282476425],\"type\":\"scatter3d\"},{\"hovertemplate\":\"color=lapse<br>0=%{x}<br>1=%{y}<br>2=%{z}<extra></extra>\",\"legendgroup\":\"lapse\",\"marker\":{\"color\":\"#FECB52\",\"symbol\":\"circle\"},\"mode\":\"markers\",\"name\":\"lapse\",\"scene\":\"scene\",\"showlegend\":true,\"x\":[-0.4105287194252014],\"y\":[0.02561623975634575],\"z\":[0.21730226278305054],\"type\":\"scatter3d\"}],                        {\"template\":{\"data\":{\"histogram2dcontour\":[{\"type\":\"histogram2dcontour\",\"colorbar\":{\"outlinewidth\":0,\"ticks\":\"\"},\"colorscale\":[[0.0,\"#0d0887\"],[0.1111111111111111,\"#46039f\"],[0.2222222222222222,\"#7201a8\"],[0.3333333333333333,\"#9c179e\"],[0.4444444444444444,\"#bd3786\"],[0.5555555555555556,\"#d8576b\"],[0.6666666666666666,\"#ed7953\"],[0.7777777777777778,\"#fb9f3a\"],[0.8888888888888888,\"#fdca26\"],[1.0,\"#f0f921\"]]}],\"choropleth\":[{\"type\":\"choropleth\",\"colorbar\":{\"outlinewidth\":0,\"ticks\":\"\"}}],\"histogram2d\":[{\"type\":\"histogram2d\",\"colorbar\":{\"outlinewidth\":0,\"ticks\":\"\"},\"colorscale\":[[0.0,\"#0d0887\"],[0.1111111111111111,\"#46039f\"],[0.2222222222222222,\"#7201a8\"],[0.3333333333333333,\"#9c179e\"],[0.4444444444444444,\"#bd3786\"],[0.5555555555555556,\"#d8576b\"],[0.6666666666666666,\"#ed7953\"],[0.7777777777777778,\"#fb9f3a\"],[0.8888888888888888,\"#fdca26\"],[1.0,\"#f0f921\"]]}],\"heatmap\":[{\"type\":\"heatmap\",\"colorbar\":{\"outlinewidth\":0,\"ticks\":\"\"},\"colorscale\":[[0.0,\"#0d0887\"],[0.1111111111111111,\"#46039f\"],[0.2222222222222222,\"#7201a8\"],[0.3333333333333333,\"#9c179e\"],[0.4444444444444444,\"#bd3786\"],[0.5555555555555556,\"#d8576b\"],[0.6666666666666666,\"#ed7953\"],[0.7777777777777778,\"#fb9f3a\"],[0.8888888888888888,\"#fdca26\"],[1.0,\"#f0f921\"]]}],\"heatmapgl\":[{\"type\":\"heatmapgl\",\"colorbar\":{\"outlinewidth\":0,\"ticks\":\"\"},\"colorscale\":[[0.0,\"#0d0887\"],[0.1111111111111111,\"#46039f\"],[0.2222222222222222,\"#7201a8\"],[0.3333333333333333,\"#9c179e\"],[0.4444444444444444,\"#bd3786\"],[0.5555555555555556,\"#d8576b\"],[0.6666666666666666,\"#ed7953\"],[0.7777777777777778,\"#fb9f3a\"],[0.8888888888888888,\"#fdca26\"],[1.0,\"#f0f921\"]]}],\"contourcarpet\":[{\"type\":\"contourcarpet\",\"colorbar\":{\"outlinewidth\":0,\"ticks\":\"\"}}],\"contour\":[{\"type\":\"contour\",\"colorbar\":{\"outlinewidth\":0,\"ticks\":\"\"},\"colorscale\":[[0.0,\"#0d0887\"],[0.1111111111111111,\"#46039f\"],[0.2222222222222222,\"#7201a8\"],[0.3333333333333333,\"#9c179e\"],[0.4444444444444444,\"#bd3786\"],[0.5555555555555556,\"#d8576b\"],[0.6666666666666666,\"#ed7953\"],[0.7777777777777778,\"#fb9f3a\"],[0.8888888888888888,\"#fdca26\"],[1.0,\"#f0f921\"]]}],\"surface\":[{\"type\":\"surface\",\"colorbar\":{\"outlinewidth\":0,\"ticks\":\"\"},\"colorscale\":[[0.0,\"#0d0887\"],[0.1111111111111111,\"#46039f\"],[0.2222222222222222,\"#7201a8\"],[0.3333333333333333,\"#9c179e\"],[0.4444444444444444,\"#bd3786\"],[0.5555555555555556,\"#d8576b\"],[0.6666666666666666,\"#ed7953\"],[0.7777777777777778,\"#fb9f3a\"],[0.8888888888888888,\"#fdca26\"],[1.0,\"#f0f921\"]]}],\"mesh3d\":[{\"type\":\"mesh3d\",\"colorbar\":{\"outlinewidth\":0,\"ticks\":\"\"}}],\"scatter\":[{\"fillpattern\":{\"fillmode\":\"overlay\",\"size\":10,\"solidity\":0.2},\"type\":\"scatter\"}],\"parcoords\":[{\"type\":\"parcoords\",\"line\":{\"colorbar\":{\"outlinewidth\":0,\"ticks\":\"\"}}}],\"scatterpolargl\":[{\"type\":\"scatterpolargl\",\"marker\":{\"colorbar\":{\"outlinewidth\":0,\"ticks\":\"\"}}}],\"bar\":[{\"error_x\":{\"color\":\"#2a3f5f\"},\"error_y\":{\"color\":\"#2a3f5f\"},\"marker\":{\"line\":{\"color\":\"#E5ECF6\",\"width\":0.5},\"pattern\":{\"fillmode\":\"overlay\",\"size\":10,\"solidity\":0.2}},\"type\":\"bar\"}],\"scattergeo\":[{\"type\":\"scattergeo\",\"marker\":{\"colorbar\":{\"outlinewidth\":0,\"ticks\":\"\"}}}],\"scatterpolar\":[{\"type\":\"scatterpolar\",\"marker\":{\"colorbar\":{\"outlinewidth\":0,\"ticks\":\"\"}}}],\"histogram\":[{\"marker\":{\"pattern\":{\"fillmode\":\"overlay\",\"size\":10,\"solidity\":0.2}},\"type\":\"histogram\"}],\"scattergl\":[{\"type\":\"scattergl\",\"marker\":{\"colorbar\":{\"outlinewidth\":0,\"ticks\":\"\"}}}],\"scatter3d\":[{\"type\":\"scatter3d\",\"line\":{\"colorbar\":{\"outlinewidth\":0,\"ticks\":\"\"}},\"marker\":{\"colorbar\":{\"outlinewidth\":0,\"ticks\":\"\"}}}],\"scattermapbox\":[{\"type\":\"scattermapbox\",\"marker\":{\"colorbar\":{\"outlinewidth\":0,\"ticks\":\"\"}}}],\"scatterternary\":[{\"type\":\"scatterternary\",\"marker\":{\"colorbar\":{\"outlinewidth\":0,\"ticks\":\"\"}}}],\"scattercarpet\":[{\"type\":\"scattercarpet\",\"marker\":{\"colorbar\":{\"outlinewidth\":0,\"ticks\":\"\"}}}],\"carpet\":[{\"aaxis\":{\"endlinecolor\":\"#2a3f5f\",\"gridcolor\":\"white\",\"linecolor\":\"white\",\"minorgridcolor\":\"white\",\"startlinecolor\":\"#2a3f5f\"},\"baxis\":{\"endlinecolor\":\"#2a3f5f\",\"gridcolor\":\"white\",\"linecolor\":\"white\",\"minorgridcolor\":\"white\",\"startlinecolor\":\"#2a3f5f\"},\"type\":\"carpet\"}],\"table\":[{\"cells\":{\"fill\":{\"color\":\"#EBF0F8\"},\"line\":{\"color\":\"white\"}},\"header\":{\"fill\":{\"color\":\"#C8D4E3\"},\"line\":{\"color\":\"white\"}},\"type\":\"table\"}],\"barpolar\":[{\"marker\":{\"line\":{\"color\":\"#E5ECF6\",\"width\":0.5},\"pattern\":{\"fillmode\":\"overlay\",\"size\":10,\"solidity\":0.2}},\"type\":\"barpolar\"}],\"pie\":[{\"automargin\":true,\"type\":\"pie\"}]},\"layout\":{\"autotypenumbers\":\"strict\",\"colorway\":[\"#636efa\",\"#EF553B\",\"#00cc96\",\"#ab63fa\",\"#FFA15A\",\"#19d3f3\",\"#FF6692\",\"#B6E880\",\"#FF97FF\",\"#FECB52\"],\"font\":{\"color\":\"#2a3f5f\"},\"hovermode\":\"closest\",\"hoverlabel\":{\"align\":\"left\"},\"paper_bgcolor\":\"white\",\"plot_bgcolor\":\"#E5ECF6\",\"polar\":{\"bgcolor\":\"#E5ECF6\",\"angularaxis\":{\"gridcolor\":\"white\",\"linecolor\":\"white\",\"ticks\":\"\"},\"radialaxis\":{\"gridcolor\":\"white\",\"linecolor\":\"white\",\"ticks\":\"\"}},\"ternary\":{\"bgcolor\":\"#E5ECF6\",\"aaxis\":{\"gridcolor\":\"white\",\"linecolor\":\"white\",\"ticks\":\"\"},\"baxis\":{\"gridcolor\":\"white\",\"linecolor\":\"white\",\"ticks\":\"\"},\"caxis\":{\"gridcolor\":\"white\",\"linecolor\":\"white\",\"ticks\":\"\"}},\"coloraxis\":{\"colorbar\":{\"outlinewidth\":0,\"ticks\":\"\"}},\"colorscale\":{\"sequential\":[[0.0,\"#0d0887\"],[0.1111111111111111,\"#46039f\"],[0.2222222222222222,\"#7201a8\"],[0.3333333333333333,\"#9c179e\"],[0.4444444444444444,\"#bd3786\"],[0.5555555555555556,\"#d8576b\"],[0.6666666666666666,\"#ed7953\"],[0.7777777777777778,\"#fb9f3a\"],[0.8888888888888888,\"#fdca26\"],[1.0,\"#f0f921\"]],\"sequentialminus\":[[0.0,\"#0d0887\"],[0.1111111111111111,\"#46039f\"],[0.2222222222222222,\"#7201a8\"],[0.3333333333333333,\"#9c179e\"],[0.4444444444444444,\"#bd3786\"],[0.5555555555555556,\"#d8576b\"],[0.6666666666666666,\"#ed7953\"],[0.7777777777777778,\"#fb9f3a\"],[0.8888888888888888,\"#fdca26\"],[1.0,\"#f0f921\"]],\"diverging\":[[0,\"#8e0152\"],[0.1,\"#c51b7d\"],[0.2,\"#de77ae\"],[0.3,\"#f1b6da\"],[0.4,\"#fde0ef\"],[0.5,\"#f7f7f7\"],[0.6,\"#e6f5d0\"],[0.7,\"#b8e186\"],[0.8,\"#7fbc41\"],[0.9,\"#4d9221\"],[1,\"#276419\"]]},\"xaxis\":{\"gridcolor\":\"white\",\"linecolor\":\"white\",\"ticks\":\"\",\"title\":{\"standoff\":15},\"zerolinecolor\":\"white\",\"automargin\":true,\"zerolinewidth\":2},\"yaxis\":{\"gridcolor\":\"white\",\"linecolor\":\"white\",\"ticks\":\"\",\"title\":{\"standoff\":15},\"zerolinecolor\":\"white\",\"automargin\":true,\"zerolinewidth\":2},\"scene\":{\"xaxis\":{\"backgroundcolor\":\"#E5ECF6\",\"gridcolor\":\"white\",\"linecolor\":\"white\",\"showbackground\":true,\"ticks\":\"\",\"zerolinecolor\":\"white\",\"gridwidth\":2},\"yaxis\":{\"backgroundcolor\":\"#E5ECF6\",\"gridcolor\":\"white\",\"linecolor\":\"white\",\"showbackground\":true,\"ticks\":\"\",\"zerolinecolor\":\"white\",\"gridwidth\":2},\"zaxis\":{\"backgroundcolor\":\"#E5ECF6\",\"gridcolor\":\"white\",\"linecolor\":\"white\",\"showbackground\":true,\"ticks\":\"\",\"zerolinecolor\":\"white\",\"gridwidth\":2}},\"shapedefaults\":{\"line\":{\"color\":\"#2a3f5f\"}},\"annotationdefaults\":{\"arrowcolor\":\"#2a3f5f\",\"arrowhead\":0,\"arrowwidth\":1},\"geo\":{\"bgcolor\":\"white\",\"landcolor\":\"#E5ECF6\",\"subunitcolor\":\"white\",\"showland\":true,\"showlakes\":true,\"lakecolor\":\"white\"},\"title\":{\"x\":0.05},\"mapbox\":{\"style\":\"light\"}}},\"scene\":{\"domain\":{\"x\":[0.0,1.0],\"y\":[0.0,1.0]},\"xaxis\":{\"title\":{\"text\":\"0\"}},\"yaxis\":{\"title\":{\"text\":\"1\"}},\"zaxis\":{\"title\":{\"text\":\"2\"}}},\"legend\":{\"title\":{\"text\":\"color\"},\"tracegroupgap\":0},\"margin\":{\"t\":60}},                        {\"responsive\": true}                    ).then(function(){\n",
       "                            \n",
       "var gd = document.getElementById('cbb4a419-7b8b-4f82-9ca4-d647cda36747');\n",
       "var x = new MutationObserver(function (mutations, observer) {{\n",
       "        var display = window.getComputedStyle(gd).display;\n",
       "        if (!display || display === 'none') {{\n",
       "            console.log([gd, 'removed!']);\n",
       "            Plotly.purge(gd);\n",
       "            observer.disconnect();\n",
       "        }}\n",
       "}});\n",
       "\n",
       "// Listen for the removal of the full notebook cells\n",
       "var notebookContainer = gd.closest('#notebook-container');\n",
       "if (notebookContainer) {{\n",
       "    x.observe(notebookContainer, {childList: true});\n",
       "}}\n",
       "\n",
       "// Listen for the clearing of the current output cell\n",
       "var outputEl = gd.closest('.output');\n",
       "if (outputEl) {{\n",
       "    x.observe(outputEl, {childList: true});\n",
       "}}\n",
       "\n",
       "                        })                };                });            </script>        </div>"
      ]
     },
     "metadata": {},
     "output_type": "display_data"
    }
   ],
   "source": [
    "import plotly.express as px\n",
    "fig = px.scatter_3d(X[500:600],x=0,y=1,z=2, color=y[500:600])\n",
    "fig.show()"
   ]
  },
  {
   "cell_type": "code",
   "execution_count": null,
   "id": "7e0828d8",
   "metadata": {},
   "outputs": [],
   "source": []
  }
 ],
 "metadata": {
  "kernelspec": {
   "display_name": "Python 3 (ipykernel)",
   "language": "python",
   "name": "python3"
  },
  "language_info": {
   "codemirror_mode": {
    "name": "ipython",
    "version": 3
   },
   "file_extension": ".py",
   "mimetype": "text/x-python",
   "name": "python",
   "nbconvert_exporter": "python",
   "pygments_lexer": "ipython3",
   "version": "3.11.5"
  }
 },
 "nbformat": 4,
 "nbformat_minor": 5
}
